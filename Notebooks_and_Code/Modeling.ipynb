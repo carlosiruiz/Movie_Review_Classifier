{
 "cells": [
  {
   "cell_type": "markdown",
   "metadata": {},
   "source": [
    "## Table of Contents\n",
    "1. [TF-IDF Split](#tfidf)\n",
    "2. [Baseline Model](#base)\n",
    "3. [Initial Models](#initial)\n",
    "4. [Grid Search](#grid)\n",
    "5. [Final Model](#final)"
   ]
  },
  {
   "cell_type": "code",
   "execution_count": 34,
   "metadata": {},
   "outputs": [],
   "source": [
    "import pandas as pd\n",
    "import matplotlib.pyplot as plt\n",
    "%matplotlib inline\n",
    "from sklearn.feature_extraction.text import TfidfVectorizer\n",
    "from custom import * #personal functions\n",
    "from sklearn.dummy import DummyClassifier\n",
    "from sklearn.svm import SVC \n",
    "from sklearn.metrics import confusion_matrix"
   ]
  },
  {
   "cell_type": "code",
   "execution_count": 3,
   "metadata": {},
   "outputs": [],
   "source": [
    "df = pd.read_pickle('../Data/classify_reviews.pkl')"
   ]
  },
  {
   "cell_type": "code",
   "execution_count": 4,
   "metadata": {},
   "outputs": [
    {
     "data": {
      "text/html": [
       "<div>\n",
       "<style scoped>\n",
       "    .dataframe tbody tr th:only-of-type {\n",
       "        vertical-align: middle;\n",
       "    }\n",
       "\n",
       "    .dataframe tbody tr th {\n",
       "        vertical-align: top;\n",
       "    }\n",
       "\n",
       "    .dataframe thead th {\n",
       "        text-align: right;\n",
       "    }\n",
       "</style>\n",
       "<table border=\"1\" class=\"dataframe\">\n",
       "  <thead>\n",
       "    <tr style=\"text-align: right;\">\n",
       "      <th></th>\n",
       "      <th>Review</th>\n",
       "      <th>Score</th>\n",
       "    </tr>\n",
       "  </thead>\n",
       "  <tbody>\n",
       "    <tr>\n",
       "      <td>0</td>\n",
       "      <td>\\n                                    Keough's...</td>\n",
       "      <td>1</td>\n",
       "    </tr>\n",
       "    <tr>\n",
       "      <td>1</td>\n",
       "      <td>\\n                                    While Th...</td>\n",
       "      <td>1</td>\n",
       "    </tr>\n",
       "    <tr>\n",
       "      <td>2</td>\n",
       "      <td>\\n                                    If \"The ...</td>\n",
       "      <td>1</td>\n",
       "    </tr>\n",
       "    <tr>\n",
       "      <td>3</td>\n",
       "      <td>\\n                                    \"The Lod...</td>\n",
       "      <td>1</td>\n",
       "    </tr>\n",
       "    <tr>\n",
       "      <td>4</td>\n",
       "      <td>\\n                                    There's ...</td>\n",
       "      <td>0</td>\n",
       "    </tr>\n",
       "    <tr>\n",
       "      <td>...</td>\n",
       "      <td>...</td>\n",
       "      <td>...</td>\n",
       "    </tr>\n",
       "    <tr>\n",
       "      <td>9169</td>\n",
       "      <td>\\n                                    Resoluti...</td>\n",
       "      <td>1</td>\n",
       "    </tr>\n",
       "    <tr>\n",
       "      <td>9170</td>\n",
       "      <td>\\n                                    Ambiguit...</td>\n",
       "      <td>1</td>\n",
       "    </tr>\n",
       "    <tr>\n",
       "      <td>9171</td>\n",
       "      <td>\\n                                    The movi...</td>\n",
       "      <td>1</td>\n",
       "    </tr>\n",
       "    <tr>\n",
       "      <td>9172</td>\n",
       "      <td>\\n                                    a slick,...</td>\n",
       "      <td>1</td>\n",
       "    </tr>\n",
       "    <tr>\n",
       "      <td>9173</td>\n",
       "      <td>\\n                                    A compet...</td>\n",
       "      <td>1</td>\n",
       "    </tr>\n",
       "  </tbody>\n",
       "</table>\n",
       "<p>9174 rows × 2 columns</p>\n",
       "</div>"
      ],
      "text/plain": [
       "                                                 Review  Score\n",
       "0     \\n                                    Keough's...      1\n",
       "1     \\n                                    While Th...      1\n",
       "2     \\n                                    If \"The ...      1\n",
       "3     \\n                                    \"The Lod...      1\n",
       "4     \\n                                    There's ...      0\n",
       "...                                                 ...    ...\n",
       "9169  \\n                                    Resoluti...      1\n",
       "9170  \\n                                    Ambiguit...      1\n",
       "9171  \\n                                    The movi...      1\n",
       "9172  \\n                                    a slick,...      1\n",
       "9173  \\n                                    A compet...      1\n",
       "\n",
       "[9174 rows x 2 columns]"
      ]
     },
     "execution_count": 4,
     "metadata": {},
     "output_type": "execute_result"
    }
   ],
   "source": [
    "df"
   ]
  },
  {
   "cell_type": "markdown",
   "metadata": {},
   "source": [
    "# TF-IDF Split <a id='tfidf'></a>"
   ]
  },
  {
   "cell_type": "code",
   "execution_count": 5,
   "metadata": {},
   "outputs": [],
   "source": [
    "vectorizer = TfidfVectorizer()\n",
    "\n",
    "tf_idf_data = vectorizer.fit_transform(df['Review'])"
   ]
  },
  {
   "cell_type": "code",
   "execution_count": 6,
   "metadata": {},
   "outputs": [
    {
     "name": "stdout",
     "output_type": "stream",
     "text": [
      "  (0, 10117)\t0.2914117875380376\n",
      "  (0, 10966)\t0.22312090826351919\n",
      "  (0, 754)\t0.16094520332915854\n",
      "  (0, 7775)\t0.1309246803411478\n",
      "  (0, 1724)\t0.2914117875380376\n",
      "  (0, 6811)\t0.1276353341610168\n",
      "  (0, 16518)\t0.16715932414848764\n",
      "  (0, 6425)\t0.268295219747871\n",
      "  (0, 10010)\t0.11837660664392648\n",
      "  (0, 5403)\t0.24963194496140165\n",
      "  (0, 15392)\t0.24733102181622205\n",
      "  (0, 8391)\t0.27274851275156836\n",
      "  (0, 16188)\t0.30754240978603853\n",
      "  (0, 14952)\t0.14632933226399633\n",
      "  (0, 14784)\t0.1432134391398423\n",
      "  (0, 2020)\t0.11907021045199254\n",
      "  (0, 14783)\t0.08126429283884655\n",
      "  (0, 4642)\t0.171213209291973\n",
      "  (0, 14147)\t0.19595693675204542\n",
      "  (0, 13522)\t0.2576463758521595\n",
      "  (0, 7871)\t0.07055357563790901\n",
      "  (0, 16492)\t0.16715932414848764\n",
      "  (0, 8120)\t0.2914117875380376\n"
     ]
    }
   ],
   "source": [
    "print(tf_idf_data[0])"
   ]
  },
  {
   "cell_type": "code",
   "execution_count": 7,
   "metadata": {},
   "outputs": [
    {
     "data": {
      "text/plain": [
       "(9174, 16679)"
      ]
     },
     "execution_count": 7,
     "metadata": {},
     "output_type": "execute_result"
    }
   ],
   "source": [
    "tf_idf_data.shape"
   ]
  },
  {
   "cell_type": "markdown",
   "metadata": {},
   "source": [
    "Our vectorized data contains 9,244 reviews, with 16,791 unique words in the vocabulary.\n",
    "\n"
   ]
  },
  {
   "cell_type": "markdown",
   "metadata": {},
   "source": [
    "# Baseline Model  <a id='base'></a>\n",
    "\n",
    "First, let's make a dummy model which always predicts the majority class. We'll use this as a comparison for all of our actual models."
   ]
  },
  {
   "cell_type": "code",
   "execution_count": 8,
   "metadata": {},
   "outputs": [],
   "source": [
    "# Split into training and test set\n",
    "X_train, X_test, y_train, y_test = train_test_split(tf_idf_data, df['Score'], random_state=13)"
   ]
  },
  {
   "cell_type": "code",
   "execution_count": 9,
   "metadata": {},
   "outputs": [
    {
     "data": {
      "text/plain": [
       "DummyClassifier(random_state=1, strategy='most_frequent')"
      ]
     },
     "execution_count": 9,
     "metadata": {},
     "output_type": "execute_result"
    }
   ],
   "source": [
    "# Create dummy classifer\n",
    "dummy = DummyClassifier(strategy='most_frequent', random_state=1)\n",
    "\n",
    "# \"Train\" model\n",
    "dummy.fit(X_train, y_train)"
   ]
  },
  {
   "cell_type": "code",
   "execution_count": 10,
   "metadata": {},
   "outputs": [
    {
     "data": {
      "text/html": [
       "<div>\n",
       "<style scoped>\n",
       "    .dataframe tbody tr th:only-of-type {\n",
       "        vertical-align: middle;\n",
       "    }\n",
       "\n",
       "    .dataframe tbody tr th {\n",
       "        vertical-align: top;\n",
       "    }\n",
       "\n",
       "    .dataframe thead th {\n",
       "        text-align: right;\n",
       "    }\n",
       "</style>\n",
       "<table border=\"1\" class=\"dataframe\">\n",
       "  <thead>\n",
       "    <tr style=\"text-align: right;\">\n",
       "      <th></th>\n",
       "      <th>Model</th>\n",
       "      <th>Accuracy</th>\n",
       "      <th>Recall</th>\n",
       "      <th>Precision</th>\n",
       "      <th>F1</th>\n",
       "    </tr>\n",
       "  </thead>\n",
       "  <tbody>\n",
       "    <tr>\n",
       "      <td>0</td>\n",
       "      <td>Dummy</td>\n",
       "      <td>0.563208</td>\n",
       "      <td>1.0</td>\n",
       "      <td>0.563208</td>\n",
       "      <td>0.72058</td>\n",
       "    </tr>\n",
       "  </tbody>\n",
       "</table>\n",
       "</div>"
      ],
      "text/plain": [
       "   Model  Accuracy  Recall  Precision       F1\n",
       "0  Dummy  0.563208     1.0   0.563208  0.72058"
      ]
     },
     "execution_count": 10,
     "metadata": {},
     "output_type": "execute_result"
    }
   ],
   "source": [
    "summary_df = pd.DataFrame(columns=['Model','Accuracy', 'Recall', 'Precision',  'F1'])\n",
    "predictions = dummy.predict(X_test)\n",
    "summary_df = summary_df.append({'Model': 'Dummy',\n",
    "   'Accuracy': metrics.accuracy_score(y_test, predictions),\n",
    "   'Recall': metrics.recall_score(y_test, predictions),\n",
    "   'Precision': metrics.precision_score(y_test, predictions), \n",
    "   'F1': metrics.f1_score(y_test, predictions)},ignore_index=True)\n",
    "summary_df"
   ]
  },
  {
   "cell_type": "code",
   "execution_count": 11,
   "metadata": {},
   "outputs": [
    {
     "name": "stdout",
     "output_type": "stream",
     "text": [
      "The majority class is 1.\n"
     ]
    }
   ],
   "source": [
    "print(f\"The majority class is {predictions[0]}.\")"
   ]
  },
  {
   "cell_type": "markdown",
   "metadata": {},
   "source": [
    "Here, we can see the dummy model is predicting only class \"1\". This gives us a recall of 1 (obviously), and an accuracy and precision of 0.55. Let's hope our models will need to do better than this!\n",
    "\n",
    "# Initial Models <a id='initial'></a>\n",
    "\n",
    "Using my classification_models() function, let's create models with only the default parameters."
   ]
  },
  {
   "cell_type": "code",
   "execution_count": 28,
   "metadata": {},
   "outputs": [
    {
     "name": "stdout",
     "output_type": "stream",
     "text": [
      "Using logistic\n",
      "Using knn\n",
      "Using tree\n",
      "Using rf\n",
      "Using AdaBoost\n",
      "Using xgb\n",
      "Using GrdBoost\n",
      "Using svc\n",
      "Using Bayes\n"
     ]
    },
    {
     "data": {
      "text/html": [
       "<div>\n",
       "<style scoped>\n",
       "    .dataframe tbody tr th:only-of-type {\n",
       "        vertical-align: middle;\n",
       "    }\n",
       "\n",
       "    .dataframe tbody tr th {\n",
       "        vertical-align: top;\n",
       "    }\n",
       "\n",
       "    .dataframe thead th {\n",
       "        text-align: right;\n",
       "    }\n",
       "</style>\n",
       "<table border=\"1\" class=\"dataframe\">\n",
       "  <thead>\n",
       "    <tr style=\"text-align: right;\">\n",
       "      <th></th>\n",
       "      <th>Model</th>\n",
       "      <th>Accuracy</th>\n",
       "      <th>Recall</th>\n",
       "      <th>Precision</th>\n",
       "      <th>F1</th>\n",
       "    </tr>\n",
       "  </thead>\n",
       "  <tbody>\n",
       "    <tr>\n",
       "      <td>0</td>\n",
       "      <td>logistic</td>\n",
       "      <td>0.756625</td>\n",
       "      <td>0.825919</td>\n",
       "      <td>0.759786</td>\n",
       "      <td>0.791474</td>\n",
       "    </tr>\n",
       "    <tr>\n",
       "      <td>1</td>\n",
       "      <td>knn</td>\n",
       "      <td>0.492158</td>\n",
       "      <td>0.302708</td>\n",
       "      <td>0.589454</td>\n",
       "      <td>0.400000</td>\n",
       "    </tr>\n",
       "    <tr>\n",
       "      <td>2</td>\n",
       "      <td>tree</td>\n",
       "      <td>0.646295</td>\n",
       "      <td>0.672147</td>\n",
       "      <td>0.688119</td>\n",
       "      <td>0.680039</td>\n",
       "    </tr>\n",
       "    <tr>\n",
       "      <td>3</td>\n",
       "      <td>rf</td>\n",
       "      <td>0.718226</td>\n",
       "      <td>0.828820</td>\n",
       "      <td>0.713572</td>\n",
       "      <td>0.766890</td>\n",
       "    </tr>\n",
       "    <tr>\n",
       "      <td>4</td>\n",
       "      <td>AdaBoost</td>\n",
       "      <td>0.624121</td>\n",
       "      <td>0.807544</td>\n",
       "      <td>0.627348</td>\n",
       "      <td>0.706131</td>\n",
       "    </tr>\n",
       "    <tr>\n",
       "      <td>5</td>\n",
       "      <td>xgb</td>\n",
       "      <td>0.635479</td>\n",
       "      <td>0.844294</td>\n",
       "      <td>0.629870</td>\n",
       "      <td>0.721488</td>\n",
       "    </tr>\n",
       "    <tr>\n",
       "      <td>6</td>\n",
       "      <td>GrdBoost</td>\n",
       "      <td>0.654408</td>\n",
       "      <td>0.863636</td>\n",
       "      <td>0.641984</td>\n",
       "      <td>0.736495</td>\n",
       "    </tr>\n",
       "    <tr>\n",
       "      <td>7</td>\n",
       "      <td>svc</td>\n",
       "      <td>0.770146</td>\n",
       "      <td>0.837524</td>\n",
       "      <td>0.771149</td>\n",
       "      <td>0.802967</td>\n",
       "    </tr>\n",
       "    <tr>\n",
       "      <td>8</td>\n",
       "      <td>Bayes</td>\n",
       "      <td>0.728502</td>\n",
       "      <td>0.911025</td>\n",
       "      <td>0.696746</td>\n",
       "      <td>0.789606</td>\n",
       "    </tr>\n",
       "  </tbody>\n",
       "</table>\n",
       "</div>"
      ],
      "text/plain": [
       "      Model  Accuracy    Recall  Precision        F1\n",
       "0  logistic  0.756625  0.825919   0.759786  0.791474\n",
       "1       knn  0.492158  0.302708   0.589454  0.400000\n",
       "2      tree  0.646295  0.672147   0.688119  0.680039\n",
       "3        rf  0.718226  0.828820   0.713572  0.766890\n",
       "4  AdaBoost  0.624121  0.807544   0.627348  0.706131\n",
       "5       xgb  0.635479  0.844294   0.629870  0.721488\n",
       "6  GrdBoost  0.654408  0.863636   0.641984  0.736495\n",
       "7       svc  0.770146  0.837524   0.771149  0.802967\n",
       "8     Bayes  0.728502  0.911025   0.696746  0.789606"
      ]
     },
     "execution_count": 28,
     "metadata": {},
     "output_type": "execute_result"
    }
   ],
   "source": [
    "models = ['logistic','knn','tree','rf','AdaBoost','xgb','GrdBoost','svc','Bayes']\n",
    "classification_models(tf_idf_data,df['Score'],models)"
   ]
  },
  {
   "cell_type": "markdown",
   "metadata": {},
   "source": [
    "# Grid Search <a id ='grid'></a>\n",
    "\n",
    "We want to prioritize accuracy in our text classification, and the best of these models are SVC, Logistic Regression, Multinomial Naive Bayes. Let's check to see if using gridsearch gets us any better results."
   ]
  },
  {
   "cell_type": "code",
   "execution_count": 13,
   "metadata": {},
   "outputs": [],
   "source": [
    "grid_models = ['logistic','svc','Bayes']\n",
    "param_grid = [{'C': np.logspace(-4, 4, 20),\n",
    "              'fit_intercept': [True, False],\n",
    "              'max_iter': [1_000,10_000],\n",
    "              'warm_start': [False,True]}, #logistic\n",
    "              {'C' : np.linspace(0.01,10,6),\n",
    "              'kernel': ['rbf', 'poly', 'sigmoid'],\n",
    "              'degree': [3,2],\n",
    "              'gamma': ['scale','auto'],\n",
    "              'shrinking': [True, False]}, #svc\n",
    "              {'alpha': [1,0.5],\n",
    "              'fit_prior': [True, False]}] #bayes"
   ]
  },
  {
   "cell_type": "code",
   "execution_count": 14,
   "metadata": {},
   "outputs": [
    {
     "name": "stdout",
     "output_type": "stream",
     "text": [
      "Fitting 5 folds for each of 160 candidates, totalling 800 fits\n"
     ]
    },
    {
     "name": "stderr",
     "output_type": "stream",
     "text": [
      "[Parallel(n_jobs=1)]: Using backend SequentialBackend with 1 concurrent workers.\n",
      "[Parallel(n_jobs=1)]: Done 800 out of 800 | elapsed:  2.9min finished\n"
     ]
    },
    {
     "name": "stdout",
     "output_type": "stream",
     "text": [
      "logistic's best parameters are {'C': 11.288378916846883, 'fit_intercept': True, 'max_iter': 1000, 'warm_start': False}\n",
      "Fitting 5 folds for each of 144 candidates, totalling 720 fits\n"
     ]
    },
    {
     "name": "stderr",
     "output_type": "stream",
     "text": [
      "[Parallel(n_jobs=1)]: Using backend SequentialBackend with 1 concurrent workers.\n",
      "[Parallel(n_jobs=1)]: Done 720 out of 720 | elapsed: 115.7min finished\n"
     ]
    },
    {
     "name": "stdout",
     "output_type": "stream",
     "text": [
      "svc's best parameters are {'C': 4.006, 'degree': 2, 'gamma': 'scale', 'kernel': 'poly', 'shrinking': True}\n",
      "Fitting 5 folds for each of 4 candidates, totalling 20 fits\n",
      "Bayes's best parameters are {'alpha': 0.5, 'fit_prior': False}\n"
     ]
    },
    {
     "name": "stderr",
     "output_type": "stream",
     "text": [
      "[Parallel(n_jobs=1)]: Using backend SequentialBackend with 1 concurrent workers.\n",
      "[Parallel(n_jobs=1)]: Done  20 out of  20 | elapsed:    0.1s finished\n"
     ]
    },
    {
     "data": {
      "text/html": [
       "<div>\n",
       "<style scoped>\n",
       "    .dataframe tbody tr th:only-of-type {\n",
       "        vertical-align: middle;\n",
       "    }\n",
       "\n",
       "    .dataframe tbody tr th {\n",
       "        vertical-align: top;\n",
       "    }\n",
       "\n",
       "    .dataframe thead th {\n",
       "        text-align: right;\n",
       "    }\n",
       "</style>\n",
       "<table border=\"1\" class=\"dataframe\">\n",
       "  <thead>\n",
       "    <tr style=\"text-align: right;\">\n",
       "      <th></th>\n",
       "      <th>Model</th>\n",
       "      <th>Accuracy</th>\n",
       "      <th>Recall</th>\n",
       "      <th>Precision</th>\n",
       "      <th>F1</th>\n",
       "    </tr>\n",
       "  </thead>\n",
       "  <tbody>\n",
       "    <tr>\n",
       "      <td>0</td>\n",
       "      <td>logistic</td>\n",
       "      <td>0.759128</td>\n",
       "      <td>0.785783</td>\n",
       "      <td>0.788814</td>\n",
       "      <td>0.787295</td>\n",
       "    </tr>\n",
       "    <tr>\n",
       "      <td>1</td>\n",
       "      <td>svc</td>\n",
       "      <td>0.778202</td>\n",
       "      <td>0.830932</td>\n",
       "      <td>0.789234</td>\n",
       "      <td>0.809546</td>\n",
       "    </tr>\n",
       "    <tr>\n",
       "      <td>2</td>\n",
       "      <td>Bayes</td>\n",
       "      <td>0.771117</td>\n",
       "      <td>0.800192</td>\n",
       "      <td>0.797129</td>\n",
       "      <td>0.798658</td>\n",
       "    </tr>\n",
       "  </tbody>\n",
       "</table>\n",
       "</div>"
      ],
      "text/plain": [
       "      Model  Accuracy    Recall  Precision        F1\n",
       "0  logistic  0.759128  0.785783   0.788814  0.787295\n",
       "1       svc  0.778202  0.830932   0.789234  0.809546\n",
       "2     Bayes  0.771117  0.800192   0.797129  0.798658"
      ]
     },
     "execution_count": 14,
     "metadata": {},
     "output_type": "execute_result"
    }
   ],
   "source": [
    "classification_models(tf_idf_data,df['Score'],grid_models,param_grid=param_grid,grid=True)"
   ]
  },
  {
   "cell_type": "markdown",
   "metadata": {},
   "source": [
    "It looks like our best model is SVC, with an accuracy and F1 score slightly better than our Multinomial Naive Bayes model. Let's analyze this model's results further.\n",
    "\n",
    "# Final Model <a id='final'></a>\n",
    "\n",
    "We'll use the same train/test set we created earlier for our baseline model and pass it to an SVC model with the parameters we just found using grid search."
   ]
  },
  {
   "cell_type": "code",
   "execution_count": 15,
   "metadata": {},
   "outputs": [],
   "source": [
    "model = SVC(C = 4.006, degree = 2, gamma = 'scale', kernel = 'poly', shrinking = True)\n",
    "model.fit(X_train,y_train)\n",
    "y_pred = model.predict(X_test)"
   ]
  },
  {
   "cell_type": "code",
   "execution_count": 17,
   "metadata": {},
   "outputs": [
    {
     "data": {
      "text/html": [
       "<div>\n",
       "<style scoped>\n",
       "    .dataframe tbody tr th:only-of-type {\n",
       "        vertical-align: middle;\n",
       "    }\n",
       "\n",
       "    .dataframe tbody tr th {\n",
       "        vertical-align: top;\n",
       "    }\n",
       "\n",
       "    .dataframe thead th {\n",
       "        text-align: right;\n",
       "    }\n",
       "</style>\n",
       "<table border=\"1\" class=\"dataframe\">\n",
       "  <thead>\n",
       "    <tr style=\"text-align: right;\">\n",
       "      <th></th>\n",
       "      <th>Model</th>\n",
       "      <th>Accuracy</th>\n",
       "      <th>Recall</th>\n",
       "      <th>Precision</th>\n",
       "      <th>F1</th>\n",
       "    </tr>\n",
       "  </thead>\n",
       "  <tbody>\n",
       "    <tr>\n",
       "      <td>0</td>\n",
       "      <td>SVC</td>\n",
       "      <td>0.769398</td>\n",
       "      <td>0.835139</td>\n",
       "      <td>0.773477</td>\n",
       "      <td>0.803126</td>\n",
       "    </tr>\n",
       "  </tbody>\n",
       "</table>\n",
       "</div>"
      ],
      "text/plain": [
       "  Model  Accuracy    Recall  Precision        F1\n",
       "0   SVC  0.769398  0.835139   0.773477  0.803126"
      ]
     },
     "execution_count": 17,
     "metadata": {},
     "output_type": "execute_result"
    }
   ],
   "source": [
    "summary_df = pd.DataFrame(columns=['Model','Accuracy', 'Recall', 'Precision', 'F1'])\n",
    "summary_df = summary_df.append({'Model': 'SVC',\n",
    "                   'Accuracy': metrics.accuracy_score(y_test, y_pred),\n",
    "                   'Recall': metrics.recall_score(y_test, y_pred),\n",
    "                   'Precision': metrics.precision_score(y_test, y_pred), \n",
    "                   'F1': metrics.f1_score(y_test, y_pred)},ignore_index=True)\n",
    "summary_df"
   ]
  },
  {
   "cell_type": "markdown",
   "metadata": {},
   "source": [
    "A confusion matrix will help us visualize these metrics."
   ]
  },
  {
   "cell_type": "code",
   "execution_count": 25,
   "metadata": {},
   "outputs": [],
   "source": [
    "cm = confusion_matrix(y_test, y_pred)\n",
    "classes = model.classes_"
   ]
  },
  {
   "cell_type": "code",
   "execution_count": 35,
   "metadata": {},
   "outputs": [
    {
     "name": "stdout",
     "output_type": "stream",
     "text": [
      "Confusion Matrix, without normalization\n"
     ]
    },
    {
     "data": {
      "image/png": "[encoded data removed]",
      "text/plain": [
       "<Figure size 432x288 with 2 Axes>"
      ]
     },
     "metadata": {
      "needs_background": "light"
     },
     "output_type": "display_data"
    }
   ],
   "source": [
    "plot_confusion_matrix(cm, classes, cmap=plt.cm.Purples)"
   ]
  }
 ],
 "metadata": {
  "kernelspec": {
   "display_name": "Python 3",
   "language": "python",
   "name": "python3"
  },
  "language_info": {
   "codemirror_mode": {
    "name": "ipython",
    "version": 3
   },
   "file_extension": ".py",
   "mimetype": "text/x-python",
   "name": "python",
   "nbconvert_exporter": "python",
   "pygments_lexer": "ipython3",
   "version": "3.7.4"
  }
 },
 "nbformat": 4,
 "nbformat_minor": 2
}
