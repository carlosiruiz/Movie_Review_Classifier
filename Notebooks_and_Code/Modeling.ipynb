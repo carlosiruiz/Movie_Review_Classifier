{
 "cells": [
  {
   "cell_type": "markdown",
   "metadata": {},
   "source": [
    "## Table of Contents\n",
    "1. [TF-IDF Split](#tfidf)\n",
    "2. [Baseline Model](#base)\n",
    "3. [Initial Models](#initial)\n",
    "4. [Grid Search](#grid)\n",
    "5. [Final Model](#final)"
   ]
  },
  {
   "cell_type": "code",
   "execution_count": 24,
   "metadata": {},
   "outputs": [],
   "source": [
    "import pandas as pd\n",
    "import matplotlib.pyplot as plt\n",
    "%matplotlib inline\n",
    "from sklearn.feature_extraction.text import TfidfVectorizer\n",
    "from custom import * #personal functions\n",
    "from sklearn.dummy import DummyClassifier\n",
    "from sklearn.svm import SVC \n",
    "from sklearn.metrics import confusion_matrix\n",
    "from sklearn.metrics import roc_curve\n",
    "from scipy import sparse\n",
    "import pickle"
   ]
  },
  {
   "cell_type": "code",
   "execution_count": 5,
   "metadata": {},
   "outputs": [
    {
     "data": {
      "text/html": [
       "<div>\n",
       "<style scoped>\n",
       "    .dataframe tbody tr th:only-of-type {\n",
       "        vertical-align: middle;\n",
       "    }\n",
       "\n",
       "    .dataframe tbody tr th {\n",
       "        vertical-align: top;\n",
       "    }\n",
       "\n",
       "    .dataframe thead th {\n",
       "        text-align: right;\n",
       "    }\n",
       "</style>\n",
       "<table border=\"1\" class=\"dataframe\">\n",
       "  <thead>\n",
       "    <tr style=\"text-align: right;\">\n",
       "      <th></th>\n",
       "      <th>Review</th>\n",
       "      <th>Score</th>\n",
       "    </tr>\n",
       "  </thead>\n",
       "  <tbody>\n",
       "    <tr>\n",
       "      <td>0</td>\n",
       "      <td>\\n                                    Keough's...</td>\n",
       "      <td>1</td>\n",
       "    </tr>\n",
       "    <tr>\n",
       "      <td>1</td>\n",
       "      <td>\\n                                    While Th...</td>\n",
       "      <td>1</td>\n",
       "    </tr>\n",
       "    <tr>\n",
       "      <td>2</td>\n",
       "      <td>\\n                                    If \"The ...</td>\n",
       "      <td>1</td>\n",
       "    </tr>\n",
       "    <tr>\n",
       "      <td>3</td>\n",
       "      <td>\\n                                    \"The Lod...</td>\n",
       "      <td>1</td>\n",
       "    </tr>\n",
       "    <tr>\n",
       "      <td>4</td>\n",
       "      <td>\\n                                    There's ...</td>\n",
       "      <td>0</td>\n",
       "    </tr>\n",
       "  </tbody>\n",
       "</table>\n",
       "</div>"
      ],
      "text/plain": [
       "                                              Review  Score\n",
       "0  \\n                                    Keough's...      1\n",
       "1  \\n                                    While Th...      1\n",
       "2  \\n                                    If \"The ...      1\n",
       "3  \\n                                    \"The Lod...      1\n",
       "4  \\n                                    There's ...      0"
      ]
     },
     "execution_count": 5,
     "metadata": {},
     "output_type": "execute_result"
    }
   ],
   "source": [
    "df = pd.read_pickle('../Data/classify_reviews.pkl')\n",
    "df.head()"
   ]
  },
  {
   "cell_type": "markdown",
   "metadata": {},
   "source": [
    "# TF-IDF Split <a id='tfidf'></a>"
   ]
  },
  {
   "cell_type": "code",
   "execution_count": 6,
   "metadata": {},
   "outputs": [],
   "source": [
    "tf_idf_data = sparse.load_npz(\"tf_idf.npz\")"
   ]
  },
  {
   "cell_type": "code",
   "execution_count": 7,
   "metadata": {},
   "outputs": [
    {
     "data": {
      "text/plain": [
       "(9174, 98742)"
      ]
     },
     "execution_count": 7,
     "metadata": {},
     "output_type": "execute_result"
    }
   ],
   "source": [
    "tf_idf_data.shape"
   ]
  },
  {
   "cell_type": "code",
   "execution_count": 25,
   "metadata": {},
   "outputs": [],
   "source": [
    "with open('features.pkl', 'rb') as f:\n",
    "    features = pickle.load(f)"
   ]
  },
  {
   "cell_type": "code",
   "execution_count": 8,
   "metadata": {},
   "outputs": [],
   "source": [
    "# Split into training and test set\n",
    "X_train, X_test, y_train, y_test = train_test_split(tf_idf_data, df['Score'], random_state=13)"
   ]
  },
  {
   "cell_type": "markdown",
   "metadata": {},
   "source": [
    "# Baseline Model  <a id='base'></a>\n",
    "\n",
    "First, let's make a dummy model which always predicts the majority class. We'll use this as a comparison for all of our actual models."
   ]
  },
  {
   "cell_type": "code",
   "execution_count": 9,
   "metadata": {},
   "outputs": [
    {
     "data": {
      "text/plain": [
       "DummyClassifier(random_state=1, strategy='most_frequent')"
      ]
     },
     "execution_count": 9,
     "metadata": {},
     "output_type": "execute_result"
    }
   ],
   "source": [
    "# Create dummy classifer\n",
    "dummy = DummyClassifier(strategy='most_frequent', random_state=1)\n",
    "\n",
    "# \"Train\" model\n",
    "dummy.fit(X_train, y_train)"
   ]
  },
  {
   "cell_type": "code",
   "execution_count": 10,
   "metadata": {},
   "outputs": [
    {
     "data": {
      "text/html": [
       "<div>\n",
       "<style scoped>\n",
       "    .dataframe tbody tr th:only-of-type {\n",
       "        vertical-align: middle;\n",
       "    }\n",
       "\n",
       "    .dataframe tbody tr th {\n",
       "        vertical-align: top;\n",
       "    }\n",
       "\n",
       "    .dataframe thead th {\n",
       "        text-align: right;\n",
       "    }\n",
       "</style>\n",
       "<table border=\"1\" class=\"dataframe\">\n",
       "  <thead>\n",
       "    <tr style=\"text-align: right;\">\n",
       "      <th></th>\n",
       "      <th>Model</th>\n",
       "      <th>Accuracy</th>\n",
       "      <th>Recall</th>\n",
       "      <th>Precision</th>\n",
       "      <th>F1</th>\n",
       "    </tr>\n",
       "  </thead>\n",
       "  <tbody>\n",
       "    <tr>\n",
       "      <td>0</td>\n",
       "      <td>Dummy</td>\n",
       "      <td>0.563208</td>\n",
       "      <td>1.0</td>\n",
       "      <td>0.563208</td>\n",
       "      <td>0.72058</td>\n",
       "    </tr>\n",
       "  </tbody>\n",
       "</table>\n",
       "</div>"
      ],
      "text/plain": [
       "   Model  Accuracy  Recall  Precision       F1\n",
       "0  Dummy  0.563208     1.0   0.563208  0.72058"
      ]
     },
     "execution_count": 10,
     "metadata": {},
     "output_type": "execute_result"
    }
   ],
   "source": [
    "summary_df = pd.DataFrame(columns=['Model','Accuracy', 'Recall', 'Precision',  'F1'])\n",
    "predictions = dummy.predict(X_test)\n",
    "summary_df = summary_df.append({'Model': 'Dummy',\n",
    "   'Accuracy': metrics.accuracy_score(y_test, predictions),\n",
    "   'Recall': metrics.recall_score(y_test, predictions),\n",
    "   'Precision': metrics.precision_score(y_test, predictions), \n",
    "   'F1': metrics.f1_score(y_test, predictions)},ignore_index=True)\n",
    "summary_df"
   ]
  },
  {
   "cell_type": "code",
   "execution_count": 11,
   "metadata": {},
   "outputs": [
    {
     "name": "stdout",
     "output_type": "stream",
     "text": [
      "The majority class is 1.\n"
     ]
    }
   ],
   "source": [
    "print(f\"The majority class is {predictions[0]}.\")"
   ]
  },
  {
   "cell_type": "markdown",
   "metadata": {},
   "source": [
    "Here, we can see the dummy model is predicting only class \"1\". This gives us a recall of 1 (obviously), and an accuracy and precision of 0.55. Let's hope our models will need to do better than this!\n",
    "\n",
    "# Initial Models <a id='initial'></a>\n",
    "\n",
    "Using my classification_models() function, let's create models with only the default parameters."
   ]
  },
  {
   "cell_type": "code",
   "execution_count": 12,
   "metadata": {},
   "outputs": [
    {
     "name": "stdout",
     "output_type": "stream",
     "text": [
      "Using logistic\n",
      "Using knn\n",
      "Using tree\n",
      "Using rf\n",
      "Using AdaBoost\n",
      "Using xgb\n",
      "Using GrdBoost\n",
      "Using svc\n",
      "Using Bayes\n"
     ]
    },
    {
     "data": {
      "text/html": [
       "<div>\n",
       "<style scoped>\n",
       "    .dataframe tbody tr th:only-of-type {\n",
       "        vertical-align: middle;\n",
       "    }\n",
       "\n",
       "    .dataframe tbody tr th {\n",
       "        vertical-align: top;\n",
       "    }\n",
       "\n",
       "    .dataframe thead th {\n",
       "        text-align: right;\n",
       "    }\n",
       "</style>\n",
       "<table border=\"1\" class=\"dataframe\">\n",
       "  <thead>\n",
       "    <tr style=\"text-align: right;\">\n",
       "      <th></th>\n",
       "      <th>Model</th>\n",
       "      <th>Accuracy</th>\n",
       "      <th>Recall</th>\n",
       "      <th>Precision</th>\n",
       "      <th>F1</th>\n",
       "    </tr>\n",
       "  </thead>\n",
       "  <tbody>\n",
       "    <tr>\n",
       "      <td>0</td>\n",
       "      <td>logistic</td>\n",
       "      <td>0.732425</td>\n",
       "      <td>0.890490</td>\n",
       "      <td>0.710890</td>\n",
       "      <td>0.790618</td>\n",
       "    </tr>\n",
       "    <tr>\n",
       "      <td>1</td>\n",
       "      <td>knn</td>\n",
       "      <td>0.488828</td>\n",
       "      <td>0.259366</td>\n",
       "      <td>0.617849</td>\n",
       "      <td>0.365359</td>\n",
       "    </tr>\n",
       "    <tr>\n",
       "      <td>2</td>\n",
       "      <td>tree</td>\n",
       "      <td>0.648501</td>\n",
       "      <td>0.658982</td>\n",
       "      <td>0.702869</td>\n",
       "      <td>0.680218</td>\n",
       "    </tr>\n",
       "    <tr>\n",
       "      <td>3</td>\n",
       "      <td>rf</td>\n",
       "      <td>0.732425</td>\n",
       "      <td>0.801153</td>\n",
       "      <td>0.745975</td>\n",
       "      <td>0.772580</td>\n",
       "    </tr>\n",
       "    <tr>\n",
       "      <td>4</td>\n",
       "      <td>AdaBoost</td>\n",
       "      <td>0.624523</td>\n",
       "      <td>0.929875</td>\n",
       "      <td>0.611111</td>\n",
       "      <td>0.737524</td>\n",
       "    </tr>\n",
       "    <tr>\n",
       "      <td>5</td>\n",
       "      <td>xgb</td>\n",
       "      <td>0.635422</td>\n",
       "      <td>0.897214</td>\n",
       "      <td>0.624332</td>\n",
       "      <td>0.736303</td>\n",
       "    </tr>\n",
       "    <tr>\n",
       "      <td>6</td>\n",
       "      <td>GrdBoost</td>\n",
       "      <td>0.653406</td>\n",
       "      <td>0.897214</td>\n",
       "      <td>0.638414</td>\n",
       "      <td>0.746006</td>\n",
       "    </tr>\n",
       "    <tr>\n",
       "      <td>7</td>\n",
       "      <td>svc</td>\n",
       "      <td>0.743324</td>\n",
       "      <td>0.912584</td>\n",
       "      <td>0.714286</td>\n",
       "      <td>0.801350</td>\n",
       "    </tr>\n",
       "    <tr>\n",
       "      <td>8</td>\n",
       "      <td>Bayes</td>\n",
       "      <td>0.719891</td>\n",
       "      <td>0.942363</td>\n",
       "      <td>0.683624</td>\n",
       "      <td>0.792407</td>\n",
       "    </tr>\n",
       "  </tbody>\n",
       "</table>\n",
       "</div>"
      ],
      "text/plain": [
       "      Model  Accuracy    Recall  Precision        F1\n",
       "0  logistic  0.732425  0.890490   0.710890  0.790618\n",
       "1       knn  0.488828  0.259366   0.617849  0.365359\n",
       "2      tree  0.648501  0.658982   0.702869  0.680218\n",
       "3        rf  0.732425  0.801153   0.745975  0.772580\n",
       "4  AdaBoost  0.624523  0.929875   0.611111  0.737524\n",
       "5       xgb  0.635422  0.897214   0.624332  0.736303\n",
       "6  GrdBoost  0.653406  0.897214   0.638414  0.746006\n",
       "7       svc  0.743324  0.912584   0.714286  0.801350\n",
       "8     Bayes  0.719891  0.942363   0.683624  0.792407"
      ]
     },
     "execution_count": 12,
     "metadata": {},
     "output_type": "execute_result"
    }
   ],
   "source": [
    "models = ['logistic','knn','tree','rf','AdaBoost','xgb','GrdBoost','svc','Bayes']\n",
    "classification_models(tf_idf_data,df['Score'],models)"
   ]
  },
  {
   "cell_type": "markdown",
   "metadata": {},
   "source": [
    "# Grid Search <a id ='grid'></a>\n",
    "\n",
    "We want to prioritize accuracy in our text classification, and the best of these models are SVC, Logistic Regression, Random Forest, and Multinomial Naive Bayes. We want to pick 3 models from these to improve on. Random Forest has the lowest F1 score of these, which takes into account both precision and recall, so we'll drop it. Let's check to see if using gridsearch gets us any better results."
   ]
  },
  {
   "cell_type": "code",
   "execution_count": 13,
   "metadata": {},
   "outputs": [],
   "source": [
    "grid_models = ['logistic','svc','Bayes']\n",
    "param_grid = [{'C': np.logspace(-4, 4, 20),\n",
    "              'fit_intercept': [True, False],\n",
    "              'max_iter': [1_000,10_000],\n",
    "              'warm_start': [False,True]}, #logistic\n",
    "              {'C' : np.linspace(0.01,10,6),\n",
    "              'kernel': ['rbf', 'poly', 'sigmoid'],\n",
    "              'degree': [3,2],\n",
    "              'gamma': ['scale','auto'],\n",
    "              'shrinking': [True, False]}, #svc\n",
    "              {'alpha': [1,0.5],\n",
    "              'fit_prior': [True, False]}] #bayes"
   ]
  },
  {
   "cell_type": "code",
   "execution_count": 14,
   "metadata": {},
   "outputs": [
    {
     "name": "stdout",
     "output_type": "stream",
     "text": [
      "Fitting 5 folds for each of 160 candidates, totalling 800 fits\n"
     ]
    },
    {
     "name": "stderr",
     "output_type": "stream",
     "text": [
      "[Parallel(n_jobs=1)]: Using backend SequentialBackend with 1 concurrent workers.\n",
      "[Parallel(n_jobs=1)]: Done 800 out of 800 | elapsed:  6.2min finished\n"
     ]
    },
    {
     "name": "stdout",
     "output_type": "stream",
     "text": [
      "logistic's best parameters are {'C': 11.288378916846883, 'fit_intercept': True, 'max_iter': 1000, 'warm_start': False}\n",
      "Fitting 5 folds for each of 144 candidates, totalling 720 fits\n"
     ]
    },
    {
     "name": "stderr",
     "output_type": "stream",
     "text": [
      "[Parallel(n_jobs=1)]: Using backend SequentialBackend with 1 concurrent workers.\n",
      "[Parallel(n_jobs=1)]: Done 720 out of 720 | elapsed: 58.0min finished\n"
     ]
    },
    {
     "name": "stdout",
     "output_type": "stream",
     "text": [
      "svc's best parameters are {'C': 2.008, 'degree': 3, 'gamma': 'scale', 'kernel': 'sigmoid', 'shrinking': True}\n",
      "Fitting 5 folds for each of 4 candidates, totalling 20 fits\n",
      "Bayes's best parameters are {'alpha': 1, 'fit_prior': False}\n"
     ]
    },
    {
     "name": "stderr",
     "output_type": "stream",
     "text": [
      "[Parallel(n_jobs=1)]: Using backend SequentialBackend with 1 concurrent workers.\n",
      "[Parallel(n_jobs=1)]: Done  20 out of  20 | elapsed:    0.1s finished\n"
     ]
    },
    {
     "data": {
      "text/html": [
       "<div>\n",
       "<style scoped>\n",
       "    .dataframe tbody tr th:only-of-type {\n",
       "        vertical-align: middle;\n",
       "    }\n",
       "\n",
       "    .dataframe tbody tr th {\n",
       "        vertical-align: top;\n",
       "    }\n",
       "\n",
       "    .dataframe thead th {\n",
       "        text-align: right;\n",
       "    }\n",
       "</style>\n",
       "<table border=\"1\" class=\"dataframe\">\n",
       "  <thead>\n",
       "    <tr style=\"text-align: right;\">\n",
       "      <th></th>\n",
       "      <th>Model</th>\n",
       "      <th>Accuracy</th>\n",
       "      <th>Recall</th>\n",
       "      <th>Precision</th>\n",
       "      <th>F1</th>\n",
       "    </tr>\n",
       "  </thead>\n",
       "  <tbody>\n",
       "    <tr>\n",
       "      <td>0</td>\n",
       "      <td>logistic</td>\n",
       "      <td>0.763488</td>\n",
       "      <td>0.809798</td>\n",
       "      <td>0.781279</td>\n",
       "      <td>0.795283</td>\n",
       "    </tr>\n",
       "    <tr>\n",
       "      <td>1</td>\n",
       "      <td>svc</td>\n",
       "      <td>0.765668</td>\n",
       "      <td>0.802113</td>\n",
       "      <td>0.788480</td>\n",
       "      <td>0.795238</td>\n",
       "    </tr>\n",
       "    <tr>\n",
       "      <td>2</td>\n",
       "      <td>Bayes</td>\n",
       "      <td>0.762398</td>\n",
       "      <td>0.836695</td>\n",
       "      <td>0.766051</td>\n",
       "      <td>0.799816</td>\n",
       "    </tr>\n",
       "  </tbody>\n",
       "</table>\n",
       "</div>"
      ],
      "text/plain": [
       "      Model  Accuracy    Recall  Precision        F1\n",
       "0  logistic  0.763488  0.809798   0.781279  0.795283\n",
       "1       svc  0.765668  0.802113   0.788480  0.795238\n",
       "2     Bayes  0.762398  0.836695   0.766051  0.799816"
      ]
     },
     "execution_count": 14,
     "metadata": {},
     "output_type": "execute_result"
    }
   ],
   "source": [
    "classification_models(tf_idf_data,df['Score'],grid_models,param_grid=param_grid,grid=True)"
   ]
  },
  {
   "cell_type": "markdown",
   "metadata": {},
   "source": [
    "It looks like my best model is SVC, with an accuracy slightly better than our two other models. Let's analyze this model's results further.\n",
    "\n",
    "# Final Model <a id='final'></a>\n",
    "\n",
    "I'll use the same train/test set created earlier for the baseline model and pass it to an SVC model with the parameters we just found using grid search. I don't include the degree parameter since we are using a \"sigmoid\" kernel, which ignores this parameter. Our grid search also told me that the best gamma and shrinking parameters are the defaults, so there's no need to include them when I create the model. "
   ]
  },
  {
   "cell_type": "code",
   "execution_count": 17,
   "metadata": {},
   "outputs": [],
   "source": [
    "model = SVC(C = 2.008, kernel = 'sigmoid')\n",
    "model.fit(X_train,y_train)\n",
    "y_pred = model.predict(X_test)"
   ]
  },
  {
   "cell_type": "code",
   "execution_count": 18,
   "metadata": {},
   "outputs": [
    {
     "data": {
      "text/html": [
       "<div>\n",
       "<style scoped>\n",
       "    .dataframe tbody tr th:only-of-type {\n",
       "        vertical-align: middle;\n",
       "    }\n",
       "\n",
       "    .dataframe tbody tr th {\n",
       "        vertical-align: top;\n",
       "    }\n",
       "\n",
       "    .dataframe thead th {\n",
       "        text-align: right;\n",
       "    }\n",
       "</style>\n",
       "<table border=\"1\" class=\"dataframe\">\n",
       "  <thead>\n",
       "    <tr style=\"text-align: right;\">\n",
       "      <th></th>\n",
       "      <th>Model</th>\n",
       "      <th>Accuracy</th>\n",
       "      <th>Recall</th>\n",
       "      <th>Precision</th>\n",
       "      <th>F1</th>\n",
       "    </tr>\n",
       "  </thead>\n",
       "  <tbody>\n",
       "    <tr>\n",
       "      <td>0</td>\n",
       "      <td>SVC</td>\n",
       "      <td>0.752398</td>\n",
       "      <td>0.794892</td>\n",
       "      <td>0.77218</td>\n",
       "      <td>0.783371</td>\n",
       "    </tr>\n",
       "  </tbody>\n",
       "</table>\n",
       "</div>"
      ],
      "text/plain": [
       "  Model  Accuracy    Recall  Precision        F1\n",
       "0   SVC  0.752398  0.794892    0.77218  0.783371"
      ]
     },
     "execution_count": 18,
     "metadata": {},
     "output_type": "execute_result"
    }
   ],
   "source": [
    "summary_df = pd.DataFrame(columns=['Model','Accuracy', 'Recall', 'Precision', 'F1'])\n",
    "summary_df = summary_df.append({'Model': 'SVC',\n",
    "                   'Accuracy': metrics.accuracy_score(y_test, y_pred),\n",
    "                   'Recall': metrics.recall_score(y_test, y_pred),\n",
    "                   'Precision': metrics.precision_score(y_test, y_pred), \n",
    "                   'F1': metrics.f1_score(y_test, y_pred)},ignore_index=True)\n",
    "summary_df"
   ]
  },
  {
   "cell_type": "markdown",
   "metadata": {},
   "source": [
    "A confusion matrix will help us visualize these metrics."
   ]
  },
  {
   "cell_type": "code",
   "execution_count": 19,
   "metadata": {},
   "outputs": [],
   "source": [
    "cm = confusion_matrix(y_test, y_pred)\n",
    "classes = model.classes_"
   ]
  },
  {
   "cell_type": "code",
   "execution_count": 20,
   "metadata": {},
   "outputs": [
    {
     "name": "stdout",
     "output_type": "stream",
     "text": [
      "Confusion Matrix, without normalization\n"
     ]
    },
    {
     "data": {
      "image/png": "[encoded data removed]",
      "text/plain": [
       "<Figure size 432x288 with 2 Axes>"
      ]
     },
     "metadata": {
      "needs_background": "light"
     },
     "output_type": "display_data"
    }
   ],
   "source": [
    "plot_confusion_matrix(cm, classes, cmap=plt.cm.Purples)"
   ]
  },
  {
   "cell_type": "code",
   "execution_count": 21,
   "metadata": {},
   "outputs": [
    {
     "name": "stdout",
     "output_type": "stream",
     "text": [
      "True positives: 1027\n",
      "True negatives: 699\n",
      "False positives: 303\n",
      "False negatives: 265\n"
     ]
    }
   ],
   "source": [
    "true_positives, true_negatives, false_positives, false_negatives = generate_confusion_indices(y_test, y_pred)"
   ]
  },
  {
   "cell_type": "markdown",
   "metadata": {},
   "source": [
    "Let's look at the top words for the false positives and false negatives."
   ]
  },
  {
   "cell_type": "code",
   "execution_count": 28,
   "metadata": {},
   "outputs": [
    {
     "data": {
      "image/png": "[encoded data removed]",
      "text/plain": [
       "<Figure size 720x720 with 1 Axes>"
      ]
     },
     "metadata": {},
     "output_type": "display_data"
    }
   ],
   "source": [
    "top_fp_words = top_mean_feats(tf_idf_data, features, grp_ids=false_positives)\n",
    "fig, ax = plt.subplots(figsize=(10, 10), facecolor=\"w\")\n",
    "ax.set_frame_on(False)\n",
    "ax.set_xlabel(\"Mean Tf-Idf Score\", labelpad=16, fontsize=14)\n",
    "ax.set_title(\"Top 25 Words in Reviews Falsely Classified as Positive\", fontsize=16)\n",
    "ax.barh(top_fp_words['Feature'], top_fp_words['TF-IDF'], align='center', color='#c7832a')\n",
    "plt.savefig(f'../Images/top_fp_words.png')"
   ]
  },
  {
   "cell_type": "code",
   "execution_count": 29,
   "metadata": {},
   "outputs": [
    {
     "data": {
      "image/png": "[encoded data removed]",
      "text/plain": [
       "<Figure size 720x720 with 1 Axes>"
      ]
     },
     "metadata": {},
     "output_type": "display_data"
    }
   ],
   "source": [
    "top_fn_words = top_mean_feats(tf_idf_data, features, grp_ids=false_negatives)\n",
    "fig, ax = plt.subplots(figsize=(10, 10), facecolor=\"w\")\n",
    "ax.set_frame_on(False)\n",
    "ax.set_xlabel(\"Mean Tf-Idf Score\", labelpad=16, fontsize=14)\n",
    "ax.set_title(\"Top 25 Words in Reviews Falsely Classified as Negative\", fontsize=16)\n",
    "ax.barh(top_fn_words['Feature'], top_fn_words['TF-IDF'], align='center', color='#c7832a')\n",
    "plt.savefig(f'../Images/top_fn_words.png')"
   ]
  },
  {
   "cell_type": "markdown",
   "metadata": {},
   "source": [
    "We can now compare these to the most important words per class of review.\n",
    "\n",
    "![Top Words Per Class](../Images/top_words_per_class.png)"
   ]
  },
  {
   "cell_type": "code",
   "execution_count": 22,
   "metadata": {},
   "outputs": [
    {
     "data": {
      "image/png": "[encoded data removed]",
      "text/plain": [
       "<Figure size 432x288 with 1 Axes>"
      ]
     },
     "metadata": {
      "needs_background": "light"
     },
     "output_type": "display_data"
    }
   ],
   "source": [
    "fpr, tpr, threshold = metrics.roc_curve(y_test, y_pred)\n",
    "roc_auc = metrics.auc(fpr, tpr)\n",
    "\n",
    "plt.title('ROC Curve', fontweight='bold')\n",
    "plt.plot(fpr, tpr, label = 'AUC = %0.2f' % roc_auc)\n",
    "plt.legend(loc = 'lower right')\n",
    "plt.plot([0, 1], [0, 1],'r--')\n",
    "plt.xlim([0, 1])\n",
    "plt.ylim([0, 1])\n",
    "plt.ylabel('True Positive Rate (Sensitivity)')\n",
    "plt.xlabel('False Positive Rate (1 - Specificity)')\n",
    "plt.savefig('../Images/roc_curve.png')\n",
    "\n",
    "# Show the grid lines as dark grey lines\n",
    "plt.grid(b=True, which='major', linestyle='-')"
   ]
  },
  {
   "cell_type": "markdown",
   "metadata": {},
   "source": [
    "The AUC shows this model has a 75% change of distinguishing between negative and positive reviews."
   ]
  }
 ],
 "metadata": {
  "kernelspec": {
   "display_name": "Python 3",
   "language": "python",
   "name": "python3"
  },
  "language_info": {
   "codemirror_mode": {
    "name": "ipython",
    "version": 3
   },
   "file_extension": ".py",
   "mimetype": "text/x-python",
   "name": "python",
   "nbconvert_exporter": "python",
   "pygments_lexer": "ipython3",
   "version": "3.7.4"
  }
 },
 "nbformat": 4,
 "nbformat_minor": 2
}
