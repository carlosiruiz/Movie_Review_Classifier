{
 "cells": [
  {
   "cell_type": "markdown",
   "metadata": {},
   "source": [
    "## Table of Contents\n",
    "1. [TF-IDF Split](#tfidf)\n",
    "2. [Baseline Model](#base)\n",
    "3. [Initial Models](#initial)"
   ]
  },
  {
   "cell_type": "code",
   "execution_count": 11,
   "metadata": {},
   "outputs": [],
   "source": [
    "import pandas as pd\n",
    "import matplotlib.pyplot as plt\n",
    "%matplotlib inline\n",
    "from sklearn.feature_extraction.text import TfidfVectorizer\n",
    "from custom import * #personal functions\n",
    "from sklearn.dummy import DummyClassifier"
   ]
  },
  {
   "cell_type": "code",
   "execution_count": 2,
   "metadata": {},
   "outputs": [],
   "source": [
    "df = pd.read_pickle('reviews.pkl')"
   ]
  },
  {
   "cell_type": "code",
   "execution_count": 3,
   "metadata": {},
   "outputs": [
    {
     "data": {
      "text/html": [
       "<div>\n",
       "<style scoped>\n",
       "    .dataframe tbody tr th:only-of-type {\n",
       "        vertical-align: middle;\n",
       "    }\n",
       "\n",
       "    .dataframe tbody tr th {\n",
       "        vertical-align: top;\n",
       "    }\n",
       "\n",
       "    .dataframe thead th {\n",
       "        text-align: right;\n",
       "    }\n",
       "</style>\n",
       "<table border=\"1\" class=\"dataframe\">\n",
       "  <thead>\n",
       "    <tr style=\"text-align: right;\">\n",
       "      <th></th>\n",
       "      <th>Review</th>\n",
       "      <th>Score</th>\n",
       "    </tr>\n",
       "  </thead>\n",
       "  <tbody>\n",
       "    <tr>\n",
       "      <td>0</td>\n",
       "      <td>\\n                                    Keough's...</td>\n",
       "      <td>1</td>\n",
       "    </tr>\n",
       "    <tr>\n",
       "      <td>1</td>\n",
       "      <td>\\n                                    While Th...</td>\n",
       "      <td>1</td>\n",
       "    </tr>\n",
       "    <tr>\n",
       "      <td>2</td>\n",
       "      <td>\\n                                    If \"The ...</td>\n",
       "      <td>1</td>\n",
       "    </tr>\n",
       "    <tr>\n",
       "      <td>3</td>\n",
       "      <td>\\n                                    \"The Lod...</td>\n",
       "      <td>1</td>\n",
       "    </tr>\n",
       "    <tr>\n",
       "      <td>4</td>\n",
       "      <td>\\n                                    There's ...</td>\n",
       "      <td>0</td>\n",
       "    </tr>\n",
       "    <tr>\n",
       "      <td>...</td>\n",
       "      <td>...</td>\n",
       "      <td>...</td>\n",
       "    </tr>\n",
       "    <tr>\n",
       "      <td>9239</td>\n",
       "      <td>\\n                                    a Pirand...</td>\n",
       "      <td>1</td>\n",
       "    </tr>\n",
       "    <tr>\n",
       "      <td>9240</td>\n",
       "      <td>\\n                                    A strang...</td>\n",
       "      <td>1</td>\n",
       "    </tr>\n",
       "    <tr>\n",
       "      <td>9241</td>\n",
       "      <td>\\n                                    A smart ...</td>\n",
       "      <td>1</td>\n",
       "    </tr>\n",
       "    <tr>\n",
       "      <td>9242</td>\n",
       "      <td>\\n                                    Resoluti...</td>\n",
       "      <td>1</td>\n",
       "    </tr>\n",
       "    <tr>\n",
       "      <td>9243</td>\n",
       "      <td>\\n                                    Ambiguit...</td>\n",
       "      <td>1</td>\n",
       "    </tr>\n",
       "  </tbody>\n",
       "</table>\n",
       "<p>9244 rows × 2 columns</p>\n",
       "</div>"
      ],
      "text/plain": [
       "                                                 Review  Score\n",
       "0     \\n                                    Keough's...      1\n",
       "1     \\n                                    While Th...      1\n",
       "2     \\n                                    If \"The ...      1\n",
       "3     \\n                                    \"The Lod...      1\n",
       "4     \\n                                    There's ...      0\n",
       "...                                                 ...    ...\n",
       "9239  \\n                                    a Pirand...      1\n",
       "9240  \\n                                    A strang...      1\n",
       "9241  \\n                                    A smart ...      1\n",
       "9242  \\n                                    Resoluti...      1\n",
       "9243  \\n                                    Ambiguit...      1\n",
       "\n",
       "[9244 rows x 2 columns]"
      ]
     },
     "execution_count": 3,
     "metadata": {},
     "output_type": "execute_result"
    }
   ],
   "source": [
    "df"
   ]
  },
  {
   "cell_type": "markdown",
   "metadata": {},
   "source": [
    "# TF-IDF Split <a id='tfidf'></a>"
   ]
  },
  {
   "cell_type": "code",
   "execution_count": 4,
   "metadata": {},
   "outputs": [],
   "source": [
    "vectorizer = TfidfVectorizer()\n",
    "\n",
    "tf_idf_data = vectorizer.fit_transform(df['Review'])"
   ]
  },
  {
   "cell_type": "code",
   "execution_count": 5,
   "metadata": {},
   "outputs": [
    {
     "name": "stdout",
     "output_type": "stream",
     "text": [
      "  (0, 10186)\t0.2922912827741062\n",
      "  (0, 11043)\t0.22076654975669596\n",
      "  (0, 738)\t0.1615446704525089\n",
      "  (0, 7817)\t0.13058808329115612\n",
      "  (0, 1733)\t0.2922912827741062\n",
      "  (0, 6845)\t0.12689512074690182\n",
      "  (0, 16619)\t0.16858733378838553\n",
      "  (0, 6454)\t0.2691250985331828\n",
      "  (0, 10077)\t0.11847799554827516\n",
      "  (0, 5431)\t0.25042176566097996\n",
      "  (0, 15489)\t0.24393273399761936\n",
      "  (0, 8437)\t0.2691250985331828\n",
      "  (0, 16286)\t0.3063277559713364\n",
      "  (0, 15043)\t0.1481049132738171\n",
      "  (0, 14873)\t0.14386319348916785\n",
      "  (0, 2030)\t0.11896653868650128\n",
      "  (0, 14872)\t0.08147888515176381\n",
      "  (0, 4666)\t0.17275675272683824\n",
      "  (0, 14233)\t0.196631551620643\n",
      "  (0, 13607)\t0.2587074193522821\n",
      "  (0, 7910)\t0.07111499828663494\n",
      "  (0, 16592)\t0.16858733378838553\n",
      "  (0, 8161)\t0.2922912827741062\n"
     ]
    }
   ],
   "source": [
    "print(tf_idf_data[0])"
   ]
  },
  {
   "cell_type": "code",
   "execution_count": 6,
   "metadata": {},
   "outputs": [
    {
     "data": {
      "text/plain": [
       "(9244, 16791)"
      ]
     },
     "execution_count": 6,
     "metadata": {},
     "output_type": "execute_result"
    }
   ],
   "source": [
    "tf_idf_data.shape"
   ]
  },
  {
   "cell_type": "markdown",
   "metadata": {},
   "source": [
    "Our vectorized data contains 9,244 reviews, with 16,791 unique words in the vocabulary.\n",
    "\n"
   ]
  },
  {
   "cell_type": "code",
   "execution_count": 7,
   "metadata": {},
   "outputs": [
    {
     "name": "stdout",
     "output_type": "stream",
     "text": [
      "Average Number of Non-Zero Elements in Vectorized Articles: 19.129489398528776\n",
      "Percentage of columns containing 0: 0.9988607295933221\n"
     ]
    }
   ],
   "source": [
    "non_zero_cols = tf_idf_data.nnz / float(tf_idf_data.shape[0])\n",
    "print(\"Average Number of Non-Zero Elements in Vectorized Articles: {}\".format(non_zero_cols))\n",
    "\n",
    "percent_sparse = 1 - (non_zero_cols / float(tf_idf_data.shape[1]))\n",
    "print('Percentage of columns containing 0: {}'.format(percent_sparse))"
   ]
  },
  {
   "cell_type": "markdown",
   "metadata": {},
   "source": [
    "As we can see from the output above, the average vectorized article contains 19 non-zero columns. This means that 99.9% of each vector is actually zeroes!"
   ]
  },
  {
   "cell_type": "markdown",
   "metadata": {},
   "source": [
    "# Baseline Model  <a id='base'></a>\n",
    "\n",
    "First, let's make a dummy model which always predicts the majority class. We'll use this as a comparison for all of our actual models."
   ]
  },
  {
   "cell_type": "code",
   "execution_count": 12,
   "metadata": {},
   "outputs": [],
   "source": [
    "# Split into training and test set\n",
    "X_train, X_test, y_train, y_test = train_test_split(tf_idf_data, df['Score'], random_state=13)"
   ]
  },
  {
   "cell_type": "code",
   "execution_count": 13,
   "metadata": {},
   "outputs": [
    {
     "data": {
      "text/plain": [
       "DummyClassifier(random_state=1, strategy='most_frequent')"
      ]
     },
     "execution_count": 13,
     "metadata": {},
     "output_type": "execute_result"
    }
   ],
   "source": [
    "# Create dummy classifer\n",
    "dummy = DummyClassifier(strategy='most_frequent', random_state=1)\n",
    "\n",
    "# \"Train\" model\n",
    "dummy.fit(X_train, y_train)"
   ]
  },
  {
   "cell_type": "code",
   "execution_count": 16,
   "metadata": {},
   "outputs": [
    {
     "data": {
      "text/html": [
       "<div>\n",
       "<style scoped>\n",
       "    .dataframe tbody tr th:only-of-type {\n",
       "        vertical-align: middle;\n",
       "    }\n",
       "\n",
       "    .dataframe tbody tr th {\n",
       "        vertical-align: top;\n",
       "    }\n",
       "\n",
       "    .dataframe thead th {\n",
       "        text-align: right;\n",
       "    }\n",
       "</style>\n",
       "<table border=\"1\" class=\"dataframe\">\n",
       "  <thead>\n",
       "    <tr style=\"text-align: right;\">\n",
       "      <th></th>\n",
       "      <th>Model</th>\n",
       "      <th>Accuracy</th>\n",
       "      <th>Recall</th>\n",
       "      <th>Precision</th>\n",
       "      <th>F1</th>\n",
       "    </tr>\n",
       "  </thead>\n",
       "  <tbody>\n",
       "    <tr>\n",
       "      <td>0</td>\n",
       "      <td>Dummy</td>\n",
       "      <td>0.553007</td>\n",
       "      <td>1.0</td>\n",
       "      <td>0.553007</td>\n",
       "      <td>0.712176</td>\n",
       "    </tr>\n",
       "  </tbody>\n",
       "</table>\n",
       "</div>"
      ],
      "text/plain": [
       "   Model  Accuracy  Recall  Precision        F1\n",
       "0  Dummy  0.553007     1.0   0.553007  0.712176"
      ]
     },
     "execution_count": 16,
     "metadata": {},
     "output_type": "execute_result"
    }
   ],
   "source": [
    "summary_df = pd.DataFrame(columns=['Model','Accuracy', 'Recall', 'Precision',  'F1'])\n",
    "predictions = dummy.predict(X_test)\n",
    "summary_df = summary_df.append({'Model': 'Dummy',\n",
    "   'Accuracy': metrics.accuracy_score(y_test, predictions),\n",
    "   'Recall': metrics.recall_score(y_test, predictions),\n",
    "   'Precision': metrics.precision_score(y_test, predictions), \n",
    "   'F1': metrics.f1_score(y_test, predictions)},ignore_index=True)\n",
    "summary_df"
   ]
  },
  {
   "cell_type": "code",
   "execution_count": 36,
   "metadata": {},
   "outputs": [
    {
     "name": "stdout",
     "output_type": "stream",
     "text": [
      "The majority class is 1.\n"
     ]
    }
   ],
   "source": [
    "print(f\"The majority class is {predictions[0]}.\")"
   ]
  },
  {
   "cell_type": "markdown",
   "metadata": {},
   "source": [
    "Here, we can see the dummy model is predicting only class \"1\". This gives us a recall of 1 (obviously), and an accuracy and precision of 0.55. Let's hope our models will need to do better than this!\n",
    "\n",
    "# Initial Models <a id='initial'></a>\n",
    "\n",
    "Using my classification_models() function, let's create models with only the default parameters."
   ]
  },
  {
   "cell_type": "code",
   "execution_count": 28,
   "metadata": {},
   "outputs": [
    {
     "name": "stdout",
     "output_type": "stream",
     "text": [
      "Using logistic\n",
      "Using knn\n",
      "Using tree\n",
      "Using rf\n",
      "Using AdaBoost\n",
      "Using xgb\n",
      "Using GrdBoost\n",
      "Using svc\n",
      "Using Bayes\n"
     ]
    },
    {
     "data": {
      "text/html": [
       "<div>\n",
       "<style scoped>\n",
       "    .dataframe tbody tr th:only-of-type {\n",
       "        vertical-align: middle;\n",
       "    }\n",
       "\n",
       "    .dataframe tbody tr th {\n",
       "        vertical-align: top;\n",
       "    }\n",
       "\n",
       "    .dataframe thead th {\n",
       "        text-align: right;\n",
       "    }\n",
       "</style>\n",
       "<table border=\"1\" class=\"dataframe\">\n",
       "  <thead>\n",
       "    <tr style=\"text-align: right;\">\n",
       "      <th></th>\n",
       "      <th>Model</th>\n",
       "      <th>Accuracy</th>\n",
       "      <th>Recall</th>\n",
       "      <th>Precision</th>\n",
       "      <th>F1</th>\n",
       "    </tr>\n",
       "  </thead>\n",
       "  <tbody>\n",
       "    <tr>\n",
       "      <td>0</td>\n",
       "      <td>logistic</td>\n",
       "      <td>0.756625</td>\n",
       "      <td>0.825919</td>\n",
       "      <td>0.759786</td>\n",
       "      <td>0.791474</td>\n",
       "    </tr>\n",
       "    <tr>\n",
       "      <td>1</td>\n",
       "      <td>knn</td>\n",
       "      <td>0.492158</td>\n",
       "      <td>0.302708</td>\n",
       "      <td>0.589454</td>\n",
       "      <td>0.400000</td>\n",
       "    </tr>\n",
       "    <tr>\n",
       "      <td>2</td>\n",
       "      <td>tree</td>\n",
       "      <td>0.646295</td>\n",
       "      <td>0.672147</td>\n",
       "      <td>0.688119</td>\n",
       "      <td>0.680039</td>\n",
       "    </tr>\n",
       "    <tr>\n",
       "      <td>3</td>\n",
       "      <td>rf</td>\n",
       "      <td>0.718226</td>\n",
       "      <td>0.828820</td>\n",
       "      <td>0.713572</td>\n",
       "      <td>0.766890</td>\n",
       "    </tr>\n",
       "    <tr>\n",
       "      <td>4</td>\n",
       "      <td>AdaBoost</td>\n",
       "      <td>0.624121</td>\n",
       "      <td>0.807544</td>\n",
       "      <td>0.627348</td>\n",
       "      <td>0.706131</td>\n",
       "    </tr>\n",
       "    <tr>\n",
       "      <td>5</td>\n",
       "      <td>xgb</td>\n",
       "      <td>0.635479</td>\n",
       "      <td>0.844294</td>\n",
       "      <td>0.629870</td>\n",
       "      <td>0.721488</td>\n",
       "    </tr>\n",
       "    <tr>\n",
       "      <td>6</td>\n",
       "      <td>GrdBoost</td>\n",
       "      <td>0.654408</td>\n",
       "      <td>0.863636</td>\n",
       "      <td>0.641984</td>\n",
       "      <td>0.736495</td>\n",
       "    </tr>\n",
       "    <tr>\n",
       "      <td>7</td>\n",
       "      <td>svc</td>\n",
       "      <td>0.770146</td>\n",
       "      <td>0.837524</td>\n",
       "      <td>0.771149</td>\n",
       "      <td>0.802967</td>\n",
       "    </tr>\n",
       "    <tr>\n",
       "      <td>8</td>\n",
       "      <td>Bayes</td>\n",
       "      <td>0.728502</td>\n",
       "      <td>0.911025</td>\n",
       "      <td>0.696746</td>\n",
       "      <td>0.789606</td>\n",
       "    </tr>\n",
       "  </tbody>\n",
       "</table>\n",
       "</div>"
      ],
      "text/plain": [
       "      Model  Accuracy    Recall  Precision        F1\n",
       "0  logistic  0.756625  0.825919   0.759786  0.791474\n",
       "1       knn  0.492158  0.302708   0.589454  0.400000\n",
       "2      tree  0.646295  0.672147   0.688119  0.680039\n",
       "3        rf  0.718226  0.828820   0.713572  0.766890\n",
       "4  AdaBoost  0.624121  0.807544   0.627348  0.706131\n",
       "5       xgb  0.635479  0.844294   0.629870  0.721488\n",
       "6  GrdBoost  0.654408  0.863636   0.641984  0.736495\n",
       "7       svc  0.770146  0.837524   0.771149  0.802967\n",
       "8     Bayes  0.728502  0.911025   0.696746  0.789606"
      ]
     },
     "execution_count": 28,
     "metadata": {},
     "output_type": "execute_result"
    }
   ],
   "source": [
    "models = ['logistic','knn','tree','rf','AdaBoost','xgb','GrdBoost','svc','Bayes']\n",
    "classification_models(tf_idf_data,df['Score'],models)"
   ]
  },
  {
   "cell_type": "markdown",
   "metadata": {},
   "source": [
    "We want to prioritize accuracy in our text classification, and the best of these models is SVC. Let's check to see if using gridsearch gets us any better results."
   ]
  },
  {
   "cell_type": "code",
   "execution_count": 26,
   "metadata": {},
   "outputs": [],
   "source": [
    "grid_models = ['knn','tree','rf','AdaBoost','GrdBoost','svc']\n",
    "param_grid = [#{'penalty': ['l1', 'l2'], \n",
    "               #'C': np.logspace(-4, 4, 10)}, #logistic\n",
    "              {'n_neighbors': [1,3,5],\n",
    "               'weights':['uniform','distance'],\n",
    "               'metric': ['euclidean','manhattan']}, #knn\n",
    "              {'criterion': ['gini', 'entropy'],\n",
    "               'max_depth' : [2,5,50],\n",
    "               'min_samples_leaf':[1,2,8],\n",
    "               'min_samples_split':[2,4]}, #tree\n",
    "              {'n_estimators': [10,50,200],\n",
    "               'max_features': ['auto', 'sqrt','log2'],\n",
    "               'max_depth': [2,5],\n",
    "               'min_samples_split' : [2,4],\n",
    "               'min_samples_leaf' : [1,4],\n",
    "               'bootstrap': [True, False]}, #rf\n",
    "             {'n_estimators': [10,50,200],\n",
    "              'learning_rate': np.linspace(0.01,1,10)}, #adaboost\n",
    "             {'learning_rate': np.linspace(0.01,1,10),\n",
    "              'n_estimators': [10,50,100],\n",
    "              'max_features': ['auto', 'sqrt','log2'],\n",
    "              'max_depth': [2,4,8],'min_samples_split' : [2,4]}, #grdboost\n",
    "             {'C' : np.linspace(0.01,10,6),\n",
    "              'gamma' : np.linspace(0.01,1,6),\n",
    "              'kernel': ['linear', 'poly', 'rbf', 'sigmoid']}] #svc"
   ]
  },
  {
   "cell_type": "code",
   "execution_count": 27,
   "metadata": {},
   "outputs": [
    {
     "name": "stdout",
     "output_type": "stream",
     "text": [
      "knn's best parameters are {'metric': 'euclidean', 'n_neighbors': 1, 'weights': 'uniform'}\n",
      "tree's best parameters are {'criterion': 'gini', 'max_depth': 50, 'min_samples_leaf': 1, 'min_samples_split': 4}\n",
      "rf's best parameters are {'bootstrap': False, 'max_depth': 5, 'max_features': 'auto', 'min_samples_leaf': 1, 'min_samples_split': 4, 'n_estimators': 10}\n",
      "AdaBoost's best parameters are {'learning_rate': 0.56, 'n_estimators': 200}\n",
      "GrdBoost's best parameters are {'learning_rate': 0.45, 'max_depth': 8, 'max_features': 'sqrt', 'min_samples_split': 4, 'n_estimators': 100}\n",
      "svc's best parameters are {'C': 6.004, 'gamma': 0.6040000000000001, 'kernel': 'rbf'}\n"
     ]
    },
    {
     "data": {
      "text/html": [
       "<div>\n",
       "<style scoped>\n",
       "    .dataframe tbody tr th:only-of-type {\n",
       "        vertical-align: middle;\n",
       "    }\n",
       "\n",
       "    .dataframe tbody tr th {\n",
       "        vertical-align: top;\n",
       "    }\n",
       "\n",
       "    .dataframe thead th {\n",
       "        text-align: right;\n",
       "    }\n",
       "</style>\n",
       "<table border=\"1\" class=\"dataframe\">\n",
       "  <thead>\n",
       "    <tr style=\"text-align: right;\">\n",
       "      <th></th>\n",
       "      <th>Model</th>\n",
       "      <th>Accuracy</th>\n",
       "      <th>Recall</th>\n",
       "      <th>Precision</th>\n",
       "      <th>F1</th>\n",
       "    </tr>\n",
       "  </thead>\n",
       "  <tbody>\n",
       "    <tr>\n",
       "      <td>0</td>\n",
       "      <td>knn</td>\n",
       "      <td>0.614927</td>\n",
       "      <td>0.997099</td>\n",
       "      <td>0.592529</td>\n",
       "      <td>0.743331</td>\n",
       "    </tr>\n",
       "    <tr>\n",
       "      <td>1</td>\n",
       "      <td>tree</td>\n",
       "      <td>0.625203</td>\n",
       "      <td>0.659574</td>\n",
       "      <td>0.666667</td>\n",
       "      <td>0.663102</td>\n",
       "    </tr>\n",
       "    <tr>\n",
       "      <td>2</td>\n",
       "      <td>rf</td>\n",
       "      <td>0.570579</td>\n",
       "      <td>0.978723</td>\n",
       "      <td>0.567265</td>\n",
       "      <td>0.718240</td>\n",
       "    </tr>\n",
       "    <tr>\n",
       "      <td>3</td>\n",
       "      <td>AdaBoost</td>\n",
       "      <td>0.674419</td>\n",
       "      <td>0.748549</td>\n",
       "      <td>0.693548</td>\n",
       "      <td>0.720000</td>\n",
       "    </tr>\n",
       "    <tr>\n",
       "      <td>4</td>\n",
       "      <td>GrdBoost</td>\n",
       "      <td>0.703624</td>\n",
       "      <td>0.794004</td>\n",
       "      <td>0.710208</td>\n",
       "      <td>0.749772</td>\n",
       "    </tr>\n",
       "    <tr>\n",
       "      <td>5</td>\n",
       "      <td>svc</td>\n",
       "      <td>0.775014</td>\n",
       "      <td>0.810445</td>\n",
       "      <td>0.792060</td>\n",
       "      <td>0.801147</td>\n",
       "    </tr>\n",
       "  </tbody>\n",
       "</table>\n",
       "</div>"
      ],
      "text/plain": [
       "      Model  Accuracy    Recall  Precision        F1\n",
       "0       knn  0.614927  0.997099   0.592529  0.743331\n",
       "1      tree  0.625203  0.659574   0.666667  0.663102\n",
       "2        rf  0.570579  0.978723   0.567265  0.718240\n",
       "3  AdaBoost  0.674419  0.748549   0.693548  0.720000\n",
       "4  GrdBoost  0.703624  0.794004   0.710208  0.749772\n",
       "5       svc  0.775014  0.810445   0.792060  0.801147"
      ]
     },
     "execution_count": 27,
     "metadata": {},
     "output_type": "execute_result"
    }
   ],
   "source": [
    "classification_models(tf_idf_data,df['Score'],grid_models,param_grid=param_grid,grid=True)"
   ]
  }
 ],
 "metadata": {
  "kernelspec": {
   "display_name": "Python 3",
   "language": "python",
   "name": "python3"
  },
  "language_info": {
   "codemirror_mode": {
    "name": "ipython",
    "version": 3
   },
   "file_extension": ".py",
   "mimetype": "text/x-python",
   "name": "python",
   "nbconvert_exporter": "python",
   "pygments_lexer": "ipython3",
   "version": "3.7.4"
  }
 },
 "nbformat": 4,
 "nbformat_minor": 2
}
