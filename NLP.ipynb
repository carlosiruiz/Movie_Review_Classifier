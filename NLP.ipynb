{
 "cells": [
  {
   "cell_type": "markdown",
   "metadata": {},
   "source": [
    "# NLP\n",
    "\n",
    "## Table of Contents\n",
    "1. [Class Distribution](#class)\n",
    "2. [Cleaning and Preprocessing Data](#clean)"
   ]
  },
  {
   "cell_type": "code",
   "execution_count": 2,
   "metadata": {},
   "outputs": [],
   "source": [
    "import pandas as pd\n",
    "import nltk\n",
    "from nltk.tokenize import word_tokenize,RegexpTokenizer\n",
    "import matplotlib.pyplot as plt\n",
    "%matplotlib inline\n",
    "import seaborn as sns\n",
    "from sklearn.dummy import DummyClassifier\n",
    "from nltk.corpus import stopwords\n",
    "import string\n",
    "from nltk import FreqDist\n",
    "import sklearn\n",
    "from sklearn.feature_extraction.text import CountVectorizer #,TfidfVectorizer\n",
    "from custom import * #personal functions\n",
    "from sklearn.model_selection import train_test_split\n",
    "from sklearn.metrics import confusion_matrix"
   ]
  },
  {
   "cell_type": "code",
   "execution_count": 3,
   "metadata": {},
   "outputs": [],
   "source": [
    "df = pd.read_pickle('reviews.pkl')"
   ]
  },
  {
   "cell_type": "code",
   "execution_count": 4,
   "metadata": {},
   "outputs": [
    {
     "data": {
      "text/html": [
       "<div>\n",
       "<style scoped>\n",
       "    .dataframe tbody tr th:only-of-type {\n",
       "        vertical-align: middle;\n",
       "    }\n",
       "\n",
       "    .dataframe tbody tr th {\n",
       "        vertical-align: top;\n",
       "    }\n",
       "\n",
       "    .dataframe thead th {\n",
       "        text-align: right;\n",
       "    }\n",
       "</style>\n",
       "<table border=\"1\" class=\"dataframe\">\n",
       "  <thead>\n",
       "    <tr style=\"text-align: right;\">\n",
       "      <th></th>\n",
       "      <th>Review</th>\n",
       "      <th>Score</th>\n",
       "    </tr>\n",
       "  </thead>\n",
       "  <tbody>\n",
       "    <tr>\n",
       "      <td>0</td>\n",
       "      <td>\\n                                    Keough's...</td>\n",
       "      <td>fresh</td>\n",
       "    </tr>\n",
       "    <tr>\n",
       "      <td>1</td>\n",
       "      <td>\\n                                    While Th...</td>\n",
       "      <td>fresh</td>\n",
       "    </tr>\n",
       "    <tr>\n",
       "      <td>2</td>\n",
       "      <td>\\n                                    If \"The ...</td>\n",
       "      <td>fresh</td>\n",
       "    </tr>\n",
       "    <tr>\n",
       "      <td>3</td>\n",
       "      <td>\\n                                    \"The Lod...</td>\n",
       "      <td>fresh</td>\n",
       "    </tr>\n",
       "    <tr>\n",
       "      <td>4</td>\n",
       "      <td>\\n                                    There's ...</td>\n",
       "      <td>rotten</td>\n",
       "    </tr>\n",
       "  </tbody>\n",
       "</table>\n",
       "</div>"
      ],
      "text/plain": [
       "                                              Review   Score\n",
       "0  \\n                                    Keough's...   fresh\n",
       "1  \\n                                    While Th...   fresh\n",
       "2  \\n                                    If \"The ...   fresh\n",
       "3  \\n                                    \"The Lod...   fresh\n",
       "4  \\n                                    There's ...  rotten"
      ]
     },
     "execution_count": 4,
     "metadata": {},
     "output_type": "execute_result"
    }
   ],
   "source": [
    "df.head()"
   ]
  },
  {
   "cell_type": "code",
   "execution_count": 5,
   "metadata": {},
   "outputs": [
    {
     "data": {
      "text/plain": [
       "(9244, 2)"
      ]
     },
     "execution_count": 5,
     "metadata": {},
     "output_type": "execute_result"
    }
   ],
   "source": [
    "df.shape"
   ]
  },
  {
   "cell_type": "markdown",
   "metadata": {},
   "source": [
    "## Class Distribution\n",
    "\n",
    "How many reviews do we have in each category?"
   ]
  },
  {
   "cell_type": "code",
   "execution_count": 6,
   "metadata": {},
   "outputs": [
    {
     "data": {
      "text/plain": [
       "fresh     5048\n",
       "rotten    4196\n",
       "Name: Score, dtype: int64"
      ]
     },
     "execution_count": 6,
     "metadata": {},
     "output_type": "execute_result"
    }
   ],
   "source": [
    "df['Score'].value_counts()"
   ]
  },
  {
   "cell_type": "code",
   "execution_count": 7,
   "metadata": {},
   "outputs": [
    {
     "data": {
      "image/png": "[encoded data removed]",
      "text/plain": [
       "<Figure size 432x288 with 1 Axes>"
      ]
     },
     "metadata": {
      "needs_background": "light"
     },
     "output_type": "display_data"
    }
   ],
   "source": [
    "sns.countplot(df['Score'], alpha =.80, palette= ['green','red'])\n",
    "plt.title('Positive vs Negative Reviews', fontweight='bold')\n",
    "plt.ylabel('Count')\n",
    "plt.show()"
   ]
  },
  {
   "cell_type": "markdown",
   "metadata": {},
   "source": [
    "## Cleaning and Preprocessing Data <a id='clean'></a>\n",
    "\n",
    "Let's see what our text looks like so we can clean and tokenize it properly."
   ]
  },
  {
   "cell_type": "code",
   "execution_count": 8,
   "metadata": {},
   "outputs": [
    {
     "data": {
      "text/plain": [
       "\"\\n                                    Keough's work is so strong, so effective, that by the time we learn the ultimate fate of Grace, we would have bought into any of the possible options.\\n                                \""
      ]
     },
     "execution_count": 8,
     "metadata": {},
     "output_type": "execute_result"
    }
   ],
   "source": [
    "df['Review'][0]"
   ]
  },
  {
   "cell_type": "markdown",
   "metadata": {},
   "source": [
    "For our stopwords, we use NLTK's english stopwords and add punctuation to these."
   ]
  },
  {
   "cell_type": "code",
   "execution_count": 9,
   "metadata": {
    "scrolled": true
   },
   "outputs": [
    {
     "name": "stdout",
     "output_type": "stream",
     "text": [
      "['i', 'me', 'my', 'myself', 'we', 'our', 'ours', 'ourselves', 'you', \"you're\", \"you've\", \"you'll\", \"you'd\", 'your', 'yours', 'yourself', 'yourselves', 'he', 'him', 'his', 'himself', 'she', \"she's\", 'her', 'hers', 'herself', 'it', \"it's\", 'its', 'itself', 'they', 'them', 'their', 'theirs', 'themselves', 'what', 'which', 'who', 'whom', 'this', 'that', \"that'll\", 'these', 'those', 'am', 'is', 'are', 'was', 'were', 'be', 'been', 'being', 'have', 'has', 'had', 'having', 'do', 'does', 'did', 'doing', 'a', 'an', 'the', 'and', 'but', 'if', 'or', 'because', 'as', 'until', 'while', 'of', 'at', 'by', 'for', 'with', 'about', 'against', 'between', 'into', 'through', 'during', 'before', 'after', 'above', 'below', 'to', 'from', 'up', 'down', 'in', 'out', 'on', 'off', 'over', 'under', 'again', 'further', 'then', 'once', 'here', 'there', 'when', 'where', 'why', 'how', 'all', 'any', 'both', 'each', 'few', 'more', 'most', 'other', 'some', 'such', 'no', 'nor', 'not', 'only', 'own', 'same', 'so', 'than', 'too', 'very', 's', 't', 'can', 'will', 'just', 'don', \"don't\", 'should', \"should've\", 'now', 'd', 'll', 'm', 'o', 're', 've', 'y', 'ain', 'aren', \"aren't\", 'couldn', \"couldn't\", 'didn', \"didn't\", 'doesn', \"doesn't\", 'hadn', \"hadn't\", 'hasn', \"hasn't\", 'haven', \"haven't\", 'isn', \"isn't\", 'ma', 'mightn', \"mightn't\", 'mustn', \"mustn't\", 'needn', \"needn't\", 'shan', \"shan't\", 'shouldn', \"shouldn't\", 'wasn', \"wasn't\", 'weren', \"weren't\", 'won', \"won't\", 'wouldn', \"wouldn't\", '!', '\"', '#', '$', '%', '&', \"'\", '(', ')', '*', '+', ',', '-', '.', '/', ':', ';', '<', '=', '>', '?', '@', '[', '\\\\', ']', '^', '_', '`', '{', '|', '}', '~']\n"
     ]
    }
   ],
   "source": [
    "stopwords_list = stopwords.words('english')+list(string.punctuation)\n",
    "print(stopwords_list)"
   ]
  },
  {
   "cell_type": "markdown",
   "metadata": {},
   "source": [
    "Next, we write a function to clean our reviews, and then use it to clean every review in the dataset. For our tokenizer, we want to add some regex to make sure we are catching words with apostrophes as a single token."
   ]
  },
  {
   "cell_type": "code",
   "execution_count": 11,
   "metadata": {},
   "outputs": [],
   "source": [
    "def process_review(review):\n",
    "    \"\"\"Returns tokenized movie review with previously defined stopwords removed.\"\"\"\n",
    "    pattern = \"([a-zA-Z]+(?:'[a-z]+)?)\"\n",
    "    tokens = nltk.regexp_tokenize(review, pattern)\n",
    "    stopwords_removed = [token.lower() for token in tokens if token.lower() not in stopwords_list]\n",
    "    return stopwords_removed    "
   ]
  },
  {
   "cell_type": "code",
   "execution_count": 12,
   "metadata": {},
   "outputs": [],
   "source": [
    "processed_df = df.copy()"
   ]
  },
  {
   "cell_type": "code",
   "execution_count": 14,
   "metadata": {},
   "outputs": [],
   "source": [
    "processed_df['Review'] = processed_df['Review'].apply(process_review)"
   ]
  },
  {
   "cell_type": "code",
   "execution_count": 17,
   "metadata": {},
   "outputs": [
    {
     "data": {
      "text/plain": [
       "[\"keough's\",\n",
       " 'work',\n",
       " 'strong',\n",
       " 'effective',\n",
       " 'time',\n",
       " 'learn',\n",
       " 'ultimate',\n",
       " 'fate',\n",
       " 'grace',\n",
       " 'would',\n",
       " 'bought',\n",
       " 'possible',\n",
       " 'options']"
      ]
     },
     "execution_count": 17,
     "metadata": {},
     "output_type": "execute_result"
    }
   ],
   "source": [
    "processed_df['Review'][0]"
   ]
  },
  {
   "cell_type": "code",
   "execution_count": null,
   "metadata": {},
   "outputs": [],
   "source": []
  },
  {
   "cell_type": "code",
   "execution_count": null,
   "metadata": {},
   "outputs": [],
   "source": []
  },
  {
   "cell_type": "code",
   "execution_count": null,
   "metadata": {},
   "outputs": [],
   "source": []
  },
  {
   "cell_type": "code",
   "execution_count": 10,
   "metadata": {},
   "outputs": [],
   "source": [
    "token = RegexpTokenizer(r\"([a-zA-Z]+(?:'[a-z]+)?)\")"
   ]
  },
  {
   "cell_type": "code",
   "execution_count": 11,
   "metadata": {},
   "outputs": [],
   "source": [
    "cv = CountVectorizer(lowercase=True,stop_words=stopwords_list,ngram_range = (1,1),tokenizer = token.tokenize)\n",
    "text_counts= cv.fit_transform(df['Review'])"
   ]
  },
  {
   "cell_type": "code",
   "execution_count": 20,
   "metadata": {},
   "outputs": [],
   "source": [
    "# print(text_counts)"
   ]
  },
  {
   "cell_type": "markdown",
   "metadata": {},
   "source": [
    "To clean the strings, we'll remove punctuation and capitalization, so that all words will be counted correctly."
   ]
  },
  {
   "cell_type": "code",
   "execution_count": 15,
   "metadata": {},
   "outputs": [],
   "source": [
    "# def remove_stopwords(list_of_strings):\n",
    "#     list_of_strings = [word.lower() for word in list_of_strings]\n",
    "#     return [word for word in list_of_strings if word not in stopwords_list]\n",
    "\n",
    "# df['Review'] = df['Review'].apply(remove_stopwords)"
   ]
  },
  {
   "cell_type": "code",
   "execution_count": 19,
   "metadata": {
    "scrolled": true
   },
   "outputs": [],
   "source": [
    "# print(df['Review'][0])"
   ]
  },
  {
   "cell_type": "code",
   "execution_count": 17,
   "metadata": {},
   "outputs": [
    {
     "data": {
      "text/plain": [
       "[('movie', 1366),\n",
       " ('horror', 1132),\n",
       " ('film', 1125),\n",
       " ('one', 743),\n",
       " ('like', 654),\n",
       " ('even', 419),\n",
       " ('much', 389),\n",
       " ('director', 353),\n",
       " ('story', 344),\n",
       " ('good', 344),\n",
       " ('genre', 316),\n",
       " ('time', 307),\n",
       " ('little', 296),\n",
       " ('first', 294),\n",
       " ('way', 293),\n",
       " ('make', 285),\n",
       " ('scary', 284),\n",
       " ('enough', 281),\n",
       " ('movies', 273),\n",
       " (\"there's\", 269),\n",
       " ('never', 268),\n",
       " ('well', 268),\n",
       " ('fun', 247),\n",
       " ('thriller', 246),\n",
       " (\"that's\", 242),\n",
       " ('makes', 231),\n",
       " ('us', 231),\n",
       " ('made', 230),\n",
       " ('best', 217),\n",
       " ('new', 215),\n",
       " ('get', 213),\n",
       " ('may', 213),\n",
       " ('original', 208),\n",
       " ('characters', 203),\n",
       " ('something', 200),\n",
       " ('films', 196),\n",
       " ('still', 195),\n",
       " ('two', 186),\n",
       " ('better', 184),\n",
       " ('might', 183),\n",
       " ('sense', 182),\n",
       " ('bad', 182),\n",
       " ('kind', 181),\n",
       " ('many', 180),\n",
       " ('real', 177),\n",
       " ('also', 173),\n",
       " ('could', 173),\n",
       " ('really', 172),\n",
       " ('go', 172),\n",
       " ('long', 170)]"
      ]
     },
     "execution_count": 17,
     "metadata": {},
     "output_type": "execute_result"
    }
   ],
   "source": [
    "#grab 50 most common words\n",
    "freqdist = FreqDist(sum(df['Review'], [])) #sum combines all of our reviews into one list\n",
    "freqdist.most_common(50)"
   ]
  },
  {
   "cell_type": "code",
   "execution_count": 18,
   "metadata": {},
   "outputs": [],
   "source": [
    "# add some unimportant words to stopwords list and remove from our reviews\n",
    "stopwords_list += ['movie', 'film', \"there's\", \"that's\"]\n",
    "df['Review'] = df['Review'].apply(remove_stopwords)"
   ]
  },
  {
   "cell_type": "code",
   "execution_count": 19,
   "metadata": {},
   "outputs": [
    {
     "data": {
      "text/plain": [
       "[('horror', 1132),\n",
       " ('one', 743),\n",
       " ('like', 654),\n",
       " ('even', 419),\n",
       " ('much', 389),\n",
       " ('director', 353),\n",
       " ('story', 344),\n",
       " ('good', 344),\n",
       " ('genre', 316),\n",
       " ('time', 307),\n",
       " ('little', 296),\n",
       " ('first', 294),\n",
       " ('way', 293),\n",
       " ('make', 285),\n",
       " ('scary', 284),\n",
       " ('enough', 281),\n",
       " ('movies', 273),\n",
       " ('never', 268),\n",
       " ('well', 268),\n",
       " ('fun', 247),\n",
       " ('thriller', 246),\n",
       " ('makes', 231),\n",
       " ('us', 231),\n",
       " ('made', 230),\n",
       " ('best', 217),\n",
       " ('new', 215),\n",
       " ('get', 213),\n",
       " ('may', 213),\n",
       " ('original', 208),\n",
       " ('characters', 203),\n",
       " ('something', 200),\n",
       " ('films', 196),\n",
       " ('still', 195),\n",
       " ('two', 186),\n",
       " ('better', 184),\n",
       " ('might', 183),\n",
       " ('sense', 182),\n",
       " ('bad', 182),\n",
       " ('kind', 181),\n",
       " ('many', 180),\n",
       " ('real', 177),\n",
       " ('also', 173),\n",
       " ('could', 173),\n",
       " ('really', 172),\n",
       " ('go', 172),\n",
       " ('long', 170),\n",
       " ('funny', 170),\n",
       " ('work', 167),\n",
       " ('would', 166),\n",
       " ('old', 160)]"
      ]
     },
     "execution_count": 19,
     "metadata": {},
     "output_type": "execute_result"
    }
   ],
   "source": [
    "freqdist = FreqDist(sum(df['Review'], []))\n",
    "freqdist.most_common(50)"
   ]
  },
  {
   "cell_type": "code",
   "execution_count": 18,
   "metadata": {},
   "outputs": [],
   "source": [
    "#vocab size w all stop words removed\n",
    "len(freqdist)"
   ]
  },
  {
   "cell_type": "code",
   "execution_count": 21,
   "metadata": {},
   "outputs": [
    {
     "data": {
      "text/html": [
       "<div>\n",
       "<style scoped>\n",
       "    .dataframe tbody tr th:only-of-type {\n",
       "        vertical-align: middle;\n",
       "    }\n",
       "\n",
       "    .dataframe tbody tr th {\n",
       "        vertical-align: top;\n",
       "    }\n",
       "\n",
       "    .dataframe thead th {\n",
       "        text-align: right;\n",
       "    }\n",
       "</style>\n",
       "<table border=\"1\" class=\"dataframe\">\n",
       "  <thead>\n",
       "    <tr style=\"text-align: right;\">\n",
       "      <th></th>\n",
       "      <th>Review</th>\n",
       "      <th>Score</th>\n",
       "    </tr>\n",
       "  </thead>\n",
       "  <tbody>\n",
       "    <tr>\n",
       "      <td>0</td>\n",
       "      <td>[keough's, work, strong, effective, time, lear...</td>\n",
       "      <td>1</td>\n",
       "    </tr>\n",
       "    <tr>\n",
       "      <td>1</td>\n",
       "      <td>[lodge, hearty, horror, films, desperately, wa...</td>\n",
       "      <td>1</td>\n",
       "    </tr>\n",
       "    <tr>\n",
       "      <td>2</td>\n",
       "      <td>[lodge, answer, questions, poses, okay, streng...</td>\n",
       "      <td>1</td>\n",
       "    </tr>\n",
       "    <tr>\n",
       "      <td>3</td>\n",
       "      <td>[lodge, perfect, treat, like, movies, dark, di...</td>\n",
       "      <td>1</td>\n",
       "    </tr>\n",
       "    <tr>\n",
       "      <td>4</td>\n",
       "      <td>[atmosphere, genuine, dread, screenplay, makes...</td>\n",
       "      <td>0</td>\n",
       "    </tr>\n",
       "  </tbody>\n",
       "</table>\n",
       "</div>"
      ],
      "text/plain": [
       "                                              Review  Score\n",
       "0  [keough's, work, strong, effective, time, lear...      1\n",
       "1  [lodge, hearty, horror, films, desperately, wa...      1\n",
       "2  [lodge, answer, questions, poses, okay, streng...      1\n",
       "3  [lodge, perfect, treat, like, movies, dark, di...      1\n",
       "4  [atmosphere, genuine, dread, screenplay, makes...      0"
      ]
     },
     "execution_count": 21,
     "metadata": {},
     "output_type": "execute_result"
    }
   ],
   "source": [
    "df['Score'] = df['Score'].apply(lambda x: 0 if x == \"rotten\" else 1)\n",
    "df.head()"
   ]
  },
  {
   "cell_type": "code",
   "execution_count": 23,
   "metadata": {},
   "outputs": [
    {
     "name": "stdout",
     "output_type": "stream",
     "text": [
      "Using logistic\n",
      "Using knn\n",
      "Using tree\n",
      "Using rf\n",
      "Using AdaBoost\n",
      "Using xgb\n",
      "Using GrdBoost\n",
      "Using svc\n"
     ]
    },
    {
     "data": {
      "text/html": [
       "<div>\n",
       "<style scoped>\n",
       "    .dataframe tbody tr th:only-of-type {\n",
       "        vertical-align: middle;\n",
       "    }\n",
       "\n",
       "    .dataframe tbody tr th {\n",
       "        vertical-align: top;\n",
       "    }\n",
       "\n",
       "    .dataframe thead th {\n",
       "        text-align: right;\n",
       "    }\n",
       "</style>\n",
       "<table border=\"1\" class=\"dataframe\">\n",
       "  <thead>\n",
       "    <tr style=\"text-align: right;\">\n",
       "      <th></th>\n",
       "      <th>Model</th>\n",
       "      <th>Accuracy</th>\n",
       "      <th>Recall</th>\n",
       "      <th>Precision</th>\n",
       "      <th>F1</th>\n",
       "    </tr>\n",
       "  </thead>\n",
       "  <tbody>\n",
       "    <tr>\n",
       "      <td>0</td>\n",
       "      <td>logistic</td>\n",
       "      <td>0.764738</td>\n",
       "      <td>0.799807</td>\n",
       "      <td>0.783886</td>\n",
       "      <td>0.791766</td>\n",
       "    </tr>\n",
       "    <tr>\n",
       "      <td>1</td>\n",
       "      <td>knn</td>\n",
       "      <td>0.510546</td>\n",
       "      <td>0.321083</td>\n",
       "      <td>0.620561</td>\n",
       "      <td>0.423199</td>\n",
       "    </tr>\n",
       "    <tr>\n",
       "      <td>2</td>\n",
       "      <td>tree</td>\n",
       "      <td>0.670633</td>\n",
       "      <td>0.691489</td>\n",
       "      <td>0.711443</td>\n",
       "      <td>0.701324</td>\n",
       "    </tr>\n",
       "    <tr>\n",
       "      <td>3</td>\n",
       "      <td>rf</td>\n",
       "      <td>0.741482</td>\n",
       "      <td>0.755319</td>\n",
       "      <td>0.776342</td>\n",
       "      <td>0.765686</td>\n",
       "    </tr>\n",
       "    <tr>\n",
       "      <td>4</td>\n",
       "      <td>AdaBoost</td>\n",
       "      <td>0.612764</td>\n",
       "      <td>0.939072</td>\n",
       "      <td>0.597906</td>\n",
       "      <td>0.730625</td>\n",
       "    </tr>\n",
       "    <tr>\n",
       "      <td>5</td>\n",
       "      <td>xgb</td>\n",
       "      <td>0.630611</td>\n",
       "      <td>0.927466</td>\n",
       "      <td>0.611997</td>\n",
       "      <td>0.737409</td>\n",
       "    </tr>\n",
       "    <tr>\n",
       "      <td>6</td>\n",
       "      <td>GrdBoost</td>\n",
       "      <td>0.634397</td>\n",
       "      <td>0.922631</td>\n",
       "      <td>0.615484</td>\n",
       "      <td>0.738390</td>\n",
       "    </tr>\n",
       "    <tr>\n",
       "      <td>7</td>\n",
       "      <td>svc</td>\n",
       "      <td>0.748513</td>\n",
       "      <td>0.822050</td>\n",
       "      <td>0.751547</td>\n",
       "      <td>0.785219</td>\n",
       "    </tr>\n",
       "  </tbody>\n",
       "</table>\n",
       "</div>"
      ],
      "text/plain": [
       "      Model  Accuracy    Recall  Precision        F1\n",
       "0  logistic  0.764738  0.799807   0.783886  0.791766\n",
       "1       knn  0.510546  0.321083   0.620561  0.423199\n",
       "2      tree  0.670633  0.691489   0.711443  0.701324\n",
       "3        rf  0.741482  0.755319   0.776342  0.765686\n",
       "4  AdaBoost  0.612764  0.939072   0.597906  0.730625\n",
       "5       xgb  0.630611  0.927466   0.611997  0.737409\n",
       "6  GrdBoost  0.634397  0.922631   0.615484  0.738390\n",
       "7       svc  0.748513  0.822050   0.751547  0.785219"
      ]
     },
     "execution_count": 23,
     "metadata": {},
     "output_type": "execute_result"
    }
   ],
   "source": [
    "models = ['logistic','knn','tree','rf','AdaBoost','xgb','GrdBoost','svc']\n",
    "classification_models(text_counts,df['Score'],models)"
   ]
  },
  {
   "cell_type": "code",
   "execution_count": null,
   "metadata": {},
   "outputs": [],
   "source": []
  },
  {
   "cell_type": "code",
   "execution_count": 8,
   "metadata": {},
   "outputs": [],
   "source": [
    "# tfidf_vectorizer=TfidfVectorizer(use_idf=True)\n",
    "\n",
    "# tfidf_vectorizer_vectors=tfidf_vectorizer.fit_transform(df['Review'])\n",
    "# # get the first vector out (for the first document)\n",
    "# first_vector_tfidfvectorizer=tfidf_vectorizer_vectors[0]\n",
    "# # place tf-idf values in a pandas data frame\n",
    "# df = pd.DataFrame(first_vector_tfidfvectorizer.T.todense(), index=tfidf_vectorizer.get_feature_names(), columns=[\"tfidf\"])\n",
    "# df.sort_values(by=[\"tfidf\"],ascending=False)"
   ]
  }
 ],
 "metadata": {
  "kernelspec": {
   "display_name": "Python 3",
   "language": "python",
   "name": "python3"
  },
  "language_info": {
   "codemirror_mode": {
    "name": "ipython",
    "version": 3
   },
   "file_extension": ".py",
   "mimetype": "text/x-python",
   "name": "python",
   "nbconvert_exporter": "python",
   "pygments_lexer": "ipython3",
   "version": "3.7.4"
  }
 },
 "nbformat": 4,
 "nbformat_minor": 2
}
